{
  "cells": [
    {
      "cell_type": "markdown",
      "metadata": {
        "id": "view-in-github",
        "colab_type": "text"
      },
      "source": [
        "<a href=\"https://colab.research.google.com/github/aleksejalex/PyPEF/blob/main/PyPEF_04_numpy.ipynb\" target=\"_parent\"><img src=\"https://colab.research.google.com/assets/colab-badge.svg\" alt=\"Open In Colab\"/></a>"
      ]
    },
    {
      "cell_type": "markdown",
      "metadata": {
        "id": "BJ38-zM8iNpQ"
      },
      "source": [
        "# PyPEF, lecture 04. Numerical computations in Python: package NumPy.\n",
        "\n",
        "Prepared by: Aleksej Gaj ( pythonforstudents24@gmail.com )\n",
        "\n",
        "🔗 Course website: [https://aleksejalex.4fan.cz/pef_python/](https://aleksejalex.4fan.cz/pef_python/)\n"
      ]
    },
    {
      "cell_type": "markdown",
      "metadata": {
        "id": "ZEI2YaSwiPFc"
      },
      "source": [
        "In this tutorial we familiarize ourselves with\n",
        " - library NumPy: general philosophy, arrays, operations on them, functions\n"
      ]
    },
    {
      "cell_type": "markdown",
      "metadata": {
        "id": "wEIHfEJeBtWE"
      },
      "source": [
        "### Solution of the optional homework:\n",
        "**task:** write a function that will take a list of numbers, test whether list contains numbers only (only type `int` and `float` is applowed) and will return median of those numbers.\n",
        "  "
      ]
    },
    {
      "cell_type": "code",
      "execution_count": null,
      "metadata": {
        "colab": {
          "base_uri": "https://localhost:8080/"
        },
        "id": "_nvxZ7eRSZGs",
        "outputId": "fad5343f-9bb6-477d-c6b3-4594e70ffe33"
      },
      "outputs": [
        {
          "name": "stdout",
          "output_type": "stream",
          "text": [
            "Median: 4\n"
          ]
        }
      ],
      "source": [
        "def calculate_median(numbers:list):\n",
        "    valid_numbers = []\n",
        "    for num in numbers:\n",
        "        if isinstance(num, (int, float)):\n",
        "            valid_numbers.append(num)\n",
        "\n",
        "    valid_numbers.sort()\n",
        "    length = len(valid_numbers)\n",
        "\n",
        "    if length == 0:\n",
        "        return None\n",
        "    elif length % 2 == 0:\n",
        "        middle = length // 2\n",
        "        return (valid_numbers[middle - 1] + valid_numbers[middle]) / 2\n",
        "    else:\n",
        "        return valid_numbers[length // 2]\n",
        "\n",
        "# Example usage:\n",
        "number_list = [1, 2.5, 3, 4, 5, 1000, 2000]\n",
        "#number_list = [1, 2, 3, 4]\n",
        "median = calculate_median(number_list)\n",
        "print(\"Median:\", median)\n"
      ]
    },
    {
      "cell_type": "markdown",
      "metadata": {
        "id": "hy8umUnHmcN8"
      },
      "source": [
        "## Optional homework (new):\n",
        "*task:* write a function `gauss()` that will return a value of Gaussian probability distribution function.\n",
        "Make mean value $\\mu$ (`mu`) and dispersion $\\sigma$ (`sigma`) optional arguments.\n",
        "\n",
        "Hint/reminder:\n",
        "$$\n",
        "    y = \\frac{1}{\\sqrt{2 \\pi \\sigma^2} } e^{- \\frac{(x - \\mu)^2}{2 \\sigma^2}}\n",
        "$$\n",
        "\n",
        "Default values: $\\mu = 0$, $\\sigma = 1$.\n",
        "\n",
        "(more on gaussian curve >> [here](https://en.wikipedia.org/wiki/Normal_distribution))"
      ]
    },
    {
      "cell_type": "code",
      "execution_count": null,
      "metadata": {
        "id": "1rpMqqYCm449"
      },
      "outputs": [],
      "source": [
        "def gauss():\n",
        "    pass\n",
        "\n",
        "x = 1\n",
        "y = gauss(x)\n",
        "y = gauss(x, mu=2, sigma=0.2)"
      ]
    },
    {
      "cell_type": "markdown",
      "metadata": {
        "id": "ndzSQjkBcmQ5"
      },
      "source": [
        "### Inheritance.\n",
        "\n"
      ]
    },
    {
      "cell_type": "code",
      "execution_count": null,
      "metadata": {
        "id": "TO0-vDrRcjCj"
      },
      "outputs": [],
      "source": [
        "# next time"
      ]
    },
    {
      "cell_type": "markdown",
      "metadata": {
        "id": "CsS_W8B1BtV5"
      },
      "source": [
        "## Recall: containers.\n",
        "Python uses several containers:\n",
        " - list\n",
        "\n",
        "\n",
        "| Type         | Description                                | Example                   |\n",
        "|--------------|--------------------------------------------|---------------------------|\n",
        "| list         | Ordered collection of items                | `my_list = [1, 2, 3]`     |\n",
        "| tuple        | Immutable ordered collection of items      | `my_tuple = (1, 2, 3)`    |\n",
        "| set          | Unordered collection of unique items       | `my_set = {1, 2, 3}`      |\n",
        "| dict         | Collection of key-value pairs              | `my_dict = {'eggs': 6, 'apples': 3, 'cookies': \"chocolate\"}`|\n"
      ]
    },
    {
      "cell_type": "code",
      "execution_count": null,
      "metadata": {
        "id": "C_aSZ5CoKr7r"
      },
      "outputs": [],
      "source": []
    },
    {
      "cell_type": "markdown",
      "metadata": {
        "id": "RihzJYIrcs4Z"
      },
      "source": [
        "## Technical recall 1: printing objects"
      ]
    },
    {
      "cell_type": "code",
      "execution_count": null,
      "metadata": {
        "id": "EH4Hnrowcsb_"
      },
      "outputs": [],
      "source": [
        "class Cat:\n",
        "    def __init__(self, weight = 10):\n",
        "        self.weight = weight\n",
        "\n",
        "    def __repr__(self):\n",
        "        # string representation of the object\n",
        "        # this fction is called when object is called in ipython (just variable in notebook)\n",
        "        return f'Just a cat with weight of {self.weight} kg'\n",
        "\n",
        "    def __str__(self):\n",
        "        # string representation of object's value\n",
        "        # this fction is called when object is being printed\n",
        "        return f'This cat was printed, meow 🐾'"
      ]
    },
    {
      "cell_type": "code",
      "execution_count": null,
      "metadata": {
        "id": "363EzQ4ac9q-"
      },
      "outputs": [],
      "source": [
        "my_cat = Cat()"
      ]
    },
    {
      "cell_type": "code",
      "execution_count": null,
      "metadata": {
        "colab": {
          "base_uri": "https://localhost:8080/"
        },
        "id": "h-kigbYTdYJF",
        "outputId": "bffe5e5a-a1b1-4d98-9345-ad8351aa9200"
      },
      "outputs": [
        {
          "data": {
            "text/plain": [
              "Just a cat with weight of 10 kg"
            ]
          },
          "execution_count": 6,
          "metadata": {},
          "output_type": "execute_result"
        }
      ],
      "source": [
        "my_cat"
      ]
    },
    {
      "cell_type": "code",
      "execution_count": null,
      "metadata": {
        "colab": {
          "base_uri": "https://localhost:8080/"
        },
        "id": "V8SdzLp5daCv",
        "outputId": "9c5f9fe4-e9cf-486c-fff3-f95f07b8a210"
      },
      "outputs": [
        {
          "name": "stdout",
          "output_type": "stream",
          "text": [
            "This cat was printed, meow 🐾\n"
          ]
        }
      ],
      "source": [
        "print(my_cat)"
      ]
    },
    {
      "cell_type": "markdown",
      "metadata": {
        "id": "yH_KW0TbViu1"
      },
      "source": [
        "## Technical recall 2: how to import packages and how to use them"
      ]
    },
    {
      "cell_type": "code",
      "execution_count": null,
      "metadata": {
        "colab": {
          "base_uri": "https://localhost:8080/"
        },
        "id": "fz_d2YTtXTiY",
        "outputId": "7f23d324-b7d9-43ba-ed35-a7311bd88e92"
      },
      "outputs": [
        {
          "name": "stdout",
          "output_type": "stream",
          "text": [
            "Variable           Type        Data/Info\n",
            "----------------------------------------\n",
            "Cat                type        <class '__main__.Cat'>\n",
            "calculate_median   function    <function calculate_median at 0x7fe3f71b3240>\n",
            "gauss              function    <function gauss at 0x7fe3f71b36a0>\n",
            "median             int         4\n",
            "my_cat             Cat         This cat was printed, meow 🐾\n",
            "number_list        list        n=7\n",
            "x                  int         1\n"
          ]
        }
      ],
      "source": [
        "# keyword of interactive python (iPython), which runs .ipynb notebooks\n",
        "%whos"
      ]
    },
    {
      "cell_type": "markdown",
      "metadata": {
        "id": "IcaiyGxnVqP3"
      },
      "source": [
        "3 ways how to import in Python:"
      ]
    },
    {
      "cell_type": "code",
      "execution_count": null,
      "metadata": {
        "id": "ArRLrdN3Vofq"
      },
      "outputs": [],
      "source": [
        "# 1. directly (usually ineficient)\n",
        "import math"
      ]
    },
    {
      "cell_type": "code",
      "execution_count": null,
      "metadata": {
        "colab": {
          "base_uri": "https://localhost:8080/"
        },
        "id": "WNQy0S4LV5Ie",
        "outputId": "3addeb20-efbf-4ba1-b890-db2d820f7b31"
      },
      "outputs": [
        {
          "data": {
            "text/plain": [
              "1.0"
            ]
          },
          "execution_count": 10,
          "metadata": {},
          "output_type": "execute_result"
        }
      ],
      "source": [
        "math.cos(2 * math.pi)"
      ]
    },
    {
      "cell_type": "code",
      "execution_count": null,
      "metadata": {
        "id": "LuPpp3x9Vobn"
      },
      "outputs": [],
      "source": [
        "# 2. via reference (most common, highly recomended)\n",
        "import math as mt"
      ]
    },
    {
      "cell_type": "code",
      "execution_count": null,
      "metadata": {
        "colab": {
          "base_uri": "https://localhost:8080/"
        },
        "id": "0de3kXivVoSX",
        "outputId": "9c39cbb4-a941-43c3-c3fe-53013ab3dc53"
      },
      "outputs": [
        {
          "data": {
            "text/plain": [
              "1.0"
            ]
          },
          "execution_count": 12,
          "metadata": {},
          "output_type": "execute_result"
        }
      ],
      "source": [
        "mt.cos(2 * mt.pi)"
      ]
    },
    {
      "cell_type": "code",
      "execution_count": null,
      "metadata": {
        "id": "hDpD-ACFWH6o"
      },
      "outputs": [],
      "source": [
        "# 3. selectively (good in cases, when you need only one/two objects from the library)\n",
        "from math import cos, pi"
      ]
    },
    {
      "cell_type": "code",
      "execution_count": null,
      "metadata": {
        "id": "Ob_YIVYIWxS5",
        "outputId": "ac4298c4-9a35-4cd5-e948-02fe8fcc553d"
      },
      "outputs": [
        {
          "data": {
            "text/plain": [
              "1.0"
            ]
          },
          "execution_count": 14,
          "metadata": {},
          "output_type": "execute_result"
        }
      ],
      "source": [
        "cos(2*pi)"
      ]
    },
    {
      "cell_type": "code",
      "execution_count": null,
      "metadata": {
        "id": "d8fVtzoGWH1r"
      },
      "outputs": [],
      "source": [
        "# 4. everything from library (NOT recomended, unless you import something small or you really need all objects inside)\n",
        "from math import *"
      ]
    },
    {
      "cell_type": "code",
      "execution_count": null,
      "metadata": {
        "colab": {
          "base_uri": "https://localhost:8080/"
        },
        "id": "V8JXKVhhWe5m",
        "outputId": "bb929196-a841-4b74-e64d-af081bd59199"
      },
      "outputs": [
        {
          "name": "stdout",
          "output_type": "stream",
          "text": [
            "Variable           Type                          Data/Info\n",
            "----------------------------------------------------------\n",
            "Cat                type                          <class '__main__.Cat'>\n",
            "acos               builtin_function_or_method    <built-in function acos>\n",
            "acosh              builtin_function_or_method    <built-in function acosh>\n",
            "asin               builtin_function_or_method    <built-in function asin>\n",
            "asinh              builtin_function_or_method    <built-in function asinh>\n",
            "atan               builtin_function_or_method    <built-in function atan>\n",
            "atan2              builtin_function_or_method    <built-in function atan2>\n",
            "atanh              builtin_function_or_method    <built-in function atanh>\n",
            "calculate_median   function                      <function calculate_median at 0x7fe3f71b3240>\n",
            "cbrt               builtin_function_or_method    <built-in function cbrt>\n",
            "ceil               builtin_function_or_method    <built-in function ceil>\n",
            "comb               builtin_function_or_method    <built-in function comb>\n",
            "copysign           builtin_function_or_method    <built-in function copysign>\n",
            "cos                builtin_function_or_method    <built-in function cos>\n",
            "cosh               builtin_function_or_method    <built-in function cosh>\n",
            "degrees            builtin_function_or_method    <built-in function degrees>\n",
            "dist               builtin_function_or_method    <built-in function dist>\n",
            "e                  float                         2.718281828459045\n",
            "erf                builtin_function_or_method    <built-in function erf>\n",
            "erfc               builtin_function_or_method    <built-in function erfc>\n",
            "exp                builtin_function_or_method    <built-in function exp>\n",
            "exp2               builtin_function_or_method    <built-in function exp2>\n",
            "expm1              builtin_function_or_method    <built-in function expm1>\n",
            "fabs               builtin_function_or_method    <built-in function fabs>\n",
            "factorial          builtin_function_or_method    <built-in function factorial>\n",
            "floor              builtin_function_or_method    <built-in function floor>\n",
            "fmod               builtin_function_or_method    <built-in function fmod>\n",
            "frexp              builtin_function_or_method    <built-in function frexp>\n",
            "fsum               builtin_function_or_method    <built-in function fsum>\n",
            "gamma              builtin_function_or_method    <built-in function gamma>\n",
            "gauss              function                      <function gauss at 0x7fe3f71b36a0>\n",
            "gcd                builtin_function_or_method    <built-in function gcd>\n",
            "hypot              builtin_function_or_method    <built-in function hypot>\n",
            "inf                float                         inf\n",
            "isclose            builtin_function_or_method    <built-in function isclose>\n",
            "isfinite           builtin_function_or_method    <built-in function isfinite>\n",
            "isinf              builtin_function_or_method    <built-in function isinf>\n",
            "isnan              builtin_function_or_method    <built-in function isnan>\n",
            "isqrt              builtin_function_or_method    <built-in function isqrt>\n",
            "lcm                builtin_function_or_method    <built-in function lcm>\n",
            "ldexp              builtin_function_or_method    <built-in function ldexp>\n",
            "lgamma             builtin_function_or_method    <built-in function lgamma>\n",
            "log                builtin_function_or_method    <built-in function log>\n",
            "log10              builtin_function_or_method    <built-in function log10>\n",
            "log1p              builtin_function_or_method    <built-in function log1p>\n",
            "log2               builtin_function_or_method    <built-in function log2>\n",
            "math               module                        <module 'math' from '/hom<...>312-x86_64-linux-gnu.so'>\n",
            "median             int                           4\n",
            "modf               builtin_function_or_method    <built-in function modf>\n",
            "mt                 module                        <module 'math' from '/hom<...>312-x86_64-linux-gnu.so'>\n",
            "my_cat             Cat                           This cat was printed, meow 🐾\n",
            "nan                float                         nan\n",
            "nextafter          builtin_function_or_method    <built-in function nextafter>\n",
            "number_list        list                          n=7\n",
            "perm               builtin_function_or_method    <built-in function perm>\n",
            "pi                 float                         3.141592653589793\n",
            "pow                builtin_function_or_method    <built-in function pow>\n",
            "prod               builtin_function_or_method    <built-in function prod>\n",
            "radians            builtin_function_or_method    <built-in function radians>\n",
            "remainder          builtin_function_or_method    <built-in function remainder>\n",
            "sin                builtin_function_or_method    <built-in function sin>\n",
            "sinh               builtin_function_or_method    <built-in function sinh>\n",
            "sqrt               builtin_function_or_method    <built-in function sqrt>\n",
            "sumprod            builtin_function_or_method    <built-in function sumprod>\n",
            "tan                builtin_function_or_method    <built-in function tan>\n",
            "tanh               builtin_function_or_method    <built-in function tanh>\n",
            "tau                float                         6.283185307179586\n",
            "trunc              builtin_function_or_method    <built-in function trunc>\n",
            "ulp                builtin_function_or_method    <built-in function ulp>\n",
            "x                  int                           1\n"
          ]
        }
      ],
      "source": [
        "%whos"
      ]
    },
    {
      "cell_type": "code",
      "execution_count": null,
      "metadata": {
        "id": "qWs6Sx62XI-P"
      },
      "outputs": [],
      "source": []
    },
    {
      "cell_type": "markdown",
      "metadata": {
        "id": "pmaQMv8gSZG3"
      },
      "source": [
        "## NumPy: Numerical Python\n",
        "\n",
        "<img src=\"https://numpy.org/doc/stable/_static/numpylogo.svg\" alt=\"logo\" width=\"400\">\n",
        "\n",
        "[documentation](https://numpy.org/)"
      ]
    },
    {
      "cell_type": "markdown",
      "metadata": {
        "id": "FUCSn4iASZG4"
      },
      "source": [
        "= library created to work with *numerical data*:\n",
        "\n",
        " - effectively stores and operates with high-dimensional data structures (**arrays** - like vectors and matrices)\n",
        " - implements mathematical operations on those arrays"
      ]
    },
    {
      "cell_type": "code",
      "execution_count": null,
      "metadata": {
        "id": "hJ3VcPviSZG5"
      },
      "outputs": [],
      "source": [
        "# import\n",
        "import numpy as np"
      ]
    },
    {
      "cell_type": "markdown",
      "metadata": {
        "id": "b9dUHNKeZvMq"
      },
      "source": [
        "### Array - basic type of variable in NumPy\n",
        "\n",
        " - very similar to vector/matrix in algebra\n",
        " - type of variable: `ndarray`"
      ]
    },
    {
      "cell_type": "markdown",
      "metadata": {
        "id": "zNJgRureaqrC"
      },
      "source": [
        "| Feature                          | Python Lists (`list`)                                 | NumPy Arrays (`ndarray`)                                 |\n",
        "|----------------------------------|-----------------------------------------------|----------------------------------------------|\n",
        "| Data Types                       | Can contain elements of different data types  | Homogeneous data type ⚠️                       |\n",
        "| Performance                      | Slower for large datasets                     | Faster for large datasets                    |\n",
        "| Mathematical Operations          | Limited functionality for mathematical ops    | Rich set of mathematical operations         |\n",
        "| Indexing and Slicing             | Basic indexing and slicing                    | Advanced indexing and slicing                |\n",
        "| Iteration                        | Basic iteration                                | Vectorized operations                        |\n",
        "| Memory Efficiency                | Less memory efficient                         | More memory efficient                        |\n"
      ]
    },
    {
      "cell_type": "markdown",
      "metadata": {
        "id": "Soes9EdrZ64m"
      },
      "source": [
        "Example:\n",
        "\n",
        "$$ \\vec{v} = \\begin{pmatrix} 1 \\\\ 2 \\\\ 3 \\\\ 4 \\end{pmatrix} $$"
      ]
    },
    {
      "cell_type": "code",
      "execution_count": null,
      "metadata": {
        "colab": {
          "base_uri": "https://localhost:8080/"
        },
        "id": "JEnGGgOtSZG5",
        "outputId": "7d38da17-539a-48af-de15-a08a905809da"
      },
      "outputs": [
        {
          "data": {
            "text/plain": [
              "array([1, 2, 3, 4])"
            ]
          },
          "execution_count": 18,
          "metadata": {},
          "output_type": "execute_result"
        }
      ],
      "source": [
        "v = np.array([1,2,3,4])\n",
        "\n",
        "v"
      ]
    },
    {
      "cell_type": "code",
      "execution_count": null,
      "metadata": {
        "colab": {
          "base_uri": "https://localhost:8080/"
        },
        "id": "hvByxQluf4rk",
        "outputId": "bc86437d-785f-4bed-95f1-11e263e14bbf"
      },
      "outputs": [
        {
          "name": "stdout",
          "output_type": "stream",
          "text": [
            "[1 2 3 4]\n"
          ]
        }
      ],
      "source": [
        "print(v)"
      ]
    },
    {
      "cell_type": "code",
      "execution_count": null,
      "metadata": {
        "colab": {
          "base_uri": "https://localhost:8080/"
        },
        "id": "JqKLXPDoj8pr",
        "outputId": "f927af2d-abef-4783-b1df-50b4bd723c3f"
      },
      "outputs": [
        {
          "data": {
            "text/plain": [
              "numpy.ndarray"
            ]
          },
          "execution_count": 20,
          "metadata": {},
          "output_type": "execute_result"
        }
      ],
      "source": [
        "type(v)"
      ]
    },
    {
      "cell_type": "markdown",
      "metadata": {
        "id": "VTXKrVyjbAtR"
      },
      "source": [
        "NumPy's array can be created:\n",
        " - from Python container - like `list` or `tuple`\n",
        " - via some NumPy function (for example `np.zeros`)\n",
        " - by loading from file\n",
        "\n"
      ]
    },
    {
      "cell_type": "code",
      "execution_count": null,
      "metadata": {
        "colab": {
          "base_uri": "https://localhost:8080/"
        },
        "id": "InFXvhBzbn-_",
        "outputId": "d27892ce-9056-46e6-d3b7-65f351652144"
      },
      "outputs": [
        {
          "name": "stdout",
          "output_type": "stream",
          "text": [
            "[1 2 3]\n",
            "[1, 2, 3]\n"
          ]
        }
      ],
      "source": [
        "mylist = [1,2,3]   # Python's \"native\" list\n",
        "arr_from_list = np.array(mylist)\n",
        "\n",
        "print(arr_from_list)\n",
        "print(mylist)"
      ]
    },
    {
      "cell_type": "markdown",
      "metadata": {
        "id": "2xhhmfT6cCgA"
      },
      "source": [
        "🗒️ Note: `list` is printed with commas while `np.array` is printed without them."
      ]
    },
    {
      "cell_type": "markdown",
      "metadata": {
        "id": "pcqMsGJmgI9j"
      },
      "source": [
        "2-D array (matrix):\n",
        "\n",
        "$$\n",
        "\\mathbb{A} = \\begin{pmatrix}\n",
        "1 & 2 & 3 \\\\\n",
        "4 & 5 & 6 \\\\\n",
        "7 & 8 & 9 \\\\\n",
        "\\end{pmatrix} $$"
      ]
    },
    {
      "cell_type": "code",
      "execution_count": null,
      "metadata": {
        "colab": {
          "base_uri": "https://localhost:8080/"
        },
        "id": "0ybTkYdEgm1p",
        "outputId": "f6ea2d93-77bf-4f3e-9f07-05929d198ce8"
      },
      "outputs": [
        {
          "data": {
            "text/plain": [
              "array([[1, 2, 3],\n",
              "       [4, 5, 6],\n",
              "       [7, 8, 9]])"
            ]
          },
          "execution_count": 22,
          "metadata": {},
          "output_type": "execute_result"
        }
      ],
      "source": [
        "A = np.array([[1,2,3], [4,5,6], [7,8,9]])\n",
        "\n",
        "A"
      ]
    },
    {
      "cell_type": "markdown",
      "metadata": {
        "id": "RswRfq8KfNT6"
      },
      "source": [
        "Matrix transposition:"
      ]
    },
    {
      "cell_type": "code",
      "execution_count": null,
      "metadata": {
        "colab": {
          "base_uri": "https://localhost:8080/"
        },
        "id": "IM8YdUUDg1yd",
        "outputId": "1770e35b-d998-4626-d2bf-208281900b98"
      },
      "outputs": [
        {
          "data": {
            "text/plain": [
              "array([[1, 4, 7],\n",
              "       [2, 5, 8],\n",
              "       [3, 6, 9]])"
            ]
          },
          "execution_count": 23,
          "metadata": {},
          "output_type": "execute_result"
        }
      ],
      "source": [
        "A.T"
      ]
    },
    {
      "cell_type": "markdown",
      "metadata": {
        "id": "zLaK8L4LgGsw"
      },
      "source": [
        "Shape of array, size of array\n",
        "\n",
        " - shape ... number of elements in each dimension\n",
        " - size ... total number of elements in the array"
      ]
    },
    {
      "cell_type": "code",
      "execution_count": null,
      "metadata": {
        "colab": {
          "base_uri": "https://localhost:8080/"
        },
        "id": "d7dqngY9b07e",
        "outputId": "f7d60c04-f7d0-4c03-a8bf-eba760d820fe"
      },
      "outputs": [
        {
          "data": {
            "text/plain": [
              "(4,)"
            ]
          },
          "execution_count": 24,
          "metadata": {},
          "output_type": "execute_result"
        }
      ],
      "source": [
        "v.shape"
      ]
    },
    {
      "cell_type": "code",
      "execution_count": null,
      "metadata": {
        "colab": {
          "base_uri": "https://localhost:8080/"
        },
        "id": "TCiFtYPJhIlf",
        "outputId": "73fb5fec-a8f5-450d-f9ca-aa08f262914c"
      },
      "outputs": [
        {
          "data": {
            "text/plain": [
              "(3, 3)"
            ]
          },
          "execution_count": 25,
          "metadata": {},
          "output_type": "execute_result"
        }
      ],
      "source": [
        "A.shape"
      ]
    },
    {
      "cell_type": "code",
      "execution_count": null,
      "metadata": {
        "colab": {
          "base_uri": "https://localhost:8080/"
        },
        "id": "_Pa__HCWYSXs",
        "outputId": "54bf9795-98bb-4c0c-d267-144d83cc367f"
      },
      "outputs": [
        {
          "data": {
            "text/plain": [
              "4"
            ]
          },
          "execution_count": 26,
          "metadata": {},
          "output_type": "execute_result"
        }
      ],
      "source": [
        "v.size"
      ]
    },
    {
      "cell_type": "code",
      "execution_count": null,
      "metadata": {
        "colab": {
          "base_uri": "https://localhost:8080/"
        },
        "id": "abR5sml9YSO1",
        "outputId": "ef4ea11e-de88-476a-903e-ca6d7ce8fa7a"
      },
      "outputs": [
        {
          "data": {
            "text/plain": [
              "9"
            ]
          },
          "execution_count": 27,
          "metadata": {},
          "output_type": "execute_result"
        }
      ],
      "source": [
        "A.size"
      ]
    },
    {
      "cell_type": "markdown",
      "metadata": {
        "id": "Z8fqxu27h3Ns"
      },
      "source": [
        "`ndarray` must have all its elements of the same type. Type can be checked via `dtype` method:"
      ]
    },
    {
      "cell_type": "code",
      "execution_count": null,
      "metadata": {
        "colab": {
          "base_uri": "https://localhost:8080/"
        },
        "id": "FzbC18MyYSFT",
        "outputId": "4db2e733-afe5-4d9e-f8b3-e39343de9ab8"
      },
      "outputs": [
        {
          "data": {
            "text/plain": [
              "dtype('int64')"
            ]
          },
          "execution_count": 28,
          "metadata": {},
          "output_type": "execute_result"
        }
      ],
      "source": [
        "A.dtype"
      ]
    },
    {
      "cell_type": "markdown",
      "metadata": {
        "id": "A3Ib2EsvjEkX"
      },
      "source": [
        "Type of elements of a `ndarray` can be set when creating the object:"
      ]
    },
    {
      "cell_type": "code",
      "execution_count": null,
      "metadata": {
        "colab": {
          "base_uri": "https://localhost:8080/"
        },
        "id": "X7OkCgCOYR9Y",
        "outputId": "2c029693-a922-451c-e1aa-5c1087e9205b"
      },
      "outputs": [
        {
          "data": {
            "text/plain": [
              "array([[  1,   2],\n",
              "       [101, 102]])"
            ]
          },
          "execution_count": 29,
          "metadata": {},
          "output_type": "execute_result"
        }
      ],
      "source": [
        "B = np.array([[1, 2], [101, 102]], dtype='int')\n",
        "\n",
        "B"
      ]
    },
    {
      "cell_type": "markdown",
      "metadata": {
        "id": "9XwmRW2zjcxo"
      },
      "source": [
        "Possible options are: `int`, `float`, `complex`, `bool`, `object`."
      ]
    },
    {
      "cell_type": "markdown",
      "metadata": {
        "id": "LWub6YSAiRiQ"
      },
      "source": [
        "### Array-generating functions\n",
        " = functions that will automatically create an array, so we don't have to specify its elements manually"
      ]
    },
    {
      "cell_type": "code",
      "execution_count": null,
      "metadata": {
        "colab": {
          "base_uri": "https://localhost:8080/"
        },
        "id": "JskbitxrkOUZ",
        "outputId": "1bc9a00d-c647-4334-a692-3a997746ed7e"
      },
      "outputs": [
        {
          "data": {
            "text/plain": [
              "array([0, 1, 2, 3, 4, 5, 6, 7, 8, 9])"
            ]
          },
          "execution_count": 30,
          "metadata": {},
          "output_type": "execute_result"
        }
      ],
      "source": [
        "x = np.arange(start=0, stop=10, step=1)\n",
        "\n",
        "x"
      ]
    },
    {
      "cell_type": "code",
      "execution_count": null,
      "metadata": {
        "colab": {
          "base_uri": "https://localhost:8080/"
        },
        "id": "zwP3eOpvkXNc",
        "outputId": "b71f6799-bada-4784-c126-793385750b75"
      },
      "outputs": [
        {
          "data": {
            "text/plain": [
              "array([-1.00000000e+00, -9.00000000e-01, -8.00000000e-01, -7.00000000e-01,\n",
              "       -6.00000000e-01, -5.00000000e-01, -4.00000000e-01, -3.00000000e-01,\n",
              "       -2.00000000e-01, -1.00000000e-01, -2.22044605e-16,  1.00000000e-01,\n",
              "        2.00000000e-01,  3.00000000e-01,  4.00000000e-01,  5.00000000e-01,\n",
              "        6.00000000e-01,  7.00000000e-01,  8.00000000e-01,  9.00000000e-01])"
            ]
          },
          "execution_count": 31,
          "metadata": {},
          "output_type": "execute_result"
        }
      ],
      "source": [
        "x = np.arange(start=-1, stop=1, step=0.1)\n",
        "\n",
        "x"
      ]
    },
    {
      "cell_type": "code",
      "execution_count": null,
      "metadata": {
        "colab": {
          "base_uri": "https://localhost:8080/"
        },
        "id": "up1uai98YRz_",
        "outputId": "10e2be32-b77e-48d0-cb37-8a205cd23902"
      },
      "outputs": [
        {
          "data": {
            "text/plain": [
              "array([[0., 0., 0.],\n",
              "       [0., 0., 0.]])"
            ]
          },
          "execution_count": 32,
          "metadata": {},
          "output_type": "execute_result"
        }
      ],
      "source": [
        "zero_mtx = np.zeros([2,3])\n",
        "\n",
        "zero_mtx"
      ]
    },
    {
      "cell_type": "code",
      "execution_count": null,
      "metadata": {
        "colab": {
          "base_uri": "https://localhost:8080/"
        },
        "id": "outSd_rTYRsT",
        "outputId": "d54a3220-2e52-4c07-a760-ff2fc8b86673"
      },
      "outputs": [
        {
          "data": {
            "text/plain": [
              "array([[1., 1.],\n",
              "       [1., 1.],\n",
              "       [1., 1.]])"
            ]
          },
          "execution_count": 33,
          "metadata": {},
          "output_type": "execute_result"
        }
      ],
      "source": [
        "ones_mtx = np.ones([3,2])\n",
        "\n",
        "ones_mtx"
      ]
    },
    {
      "cell_type": "code",
      "execution_count": null,
      "metadata": {
        "colab": {
          "base_uri": "https://localhost:8080/"
        },
        "id": "65-BqTSQYRlD",
        "outputId": "05f6c832-5130-43dc-c54c-dc9f7bfaa437"
      },
      "outputs": [
        {
          "data": {
            "text/plain": [
              "array([[1, 0, 0, 0, 0],\n",
              "       [0, 1, 0, 0, 0],\n",
              "       [0, 0, 1, 0, 0],\n",
              "       [0, 0, 0, 1, 0],\n",
              "       [0, 0, 0, 0, 1]])"
            ]
          },
          "execution_count": 34,
          "metadata": {},
          "output_type": "execute_result"
        }
      ],
      "source": [
        "eye_mtx = np.eye(5, dtype = int)\n",
        "\n",
        "eye_mtx"
      ]
    },
    {
      "cell_type": "code",
      "execution_count": null,
      "metadata": {
        "colab": {
          "base_uri": "https://localhost:8080/"
        },
        "id": "D_gApQQWYRea",
        "outputId": "b0b18a16-9c09-44fd-907a-ed72ba096877"
      },
      "outputs": [
        {
          "data": {
            "text/plain": [
              "dtype('int64')"
            ]
          },
          "execution_count": 35,
          "metadata": {},
          "output_type": "execute_result"
        }
      ],
      "source": [
        "eye_mtx.dtype"
      ]
    },
    {
      "cell_type": "code",
      "execution_count": null,
      "metadata": {
        "colab": {
          "base_uri": "https://localhost:8080/"
        },
        "id": "d3oOYzIWYRYG",
        "outputId": "2e33baeb-084d-4480-d8e0-9a16cf70a185"
      },
      "outputs": [
        {
          "data": {
            "text/plain": [
              "array([[0.8219073 , 0.56493613, 0.98929023, 0.25800709],\n",
              "       [0.93426408, 0.38366149, 0.40314304, 0.56456309],\n",
              "       [0.51781959, 0.34913436, 0.24790066, 0.59879565]])"
            ]
          },
          "execution_count": 36,
          "metadata": {},
          "output_type": "execute_result"
        }
      ],
      "source": [
        "# Array of random numbers - each is generated from uniform distribution on (0,1)\n",
        "np.random.rand(3,4)"
      ]
    },
    {
      "cell_type": "code",
      "execution_count": null,
      "metadata": {
        "colab": {
          "base_uri": "https://localhost:8080/"
        },
        "id": "ICnau1P8YRSF",
        "outputId": "0a1c8af9-f1ef-4383-c98f-b6ef2eba53c6"
      },
      "outputs": [
        {
          "data": {
            "text/plain": [
              "array([[ 0.84387079,  1.05744945, -0.61910616,  1.03789067],\n",
              "       [ 1.09907158, -0.20952959, -0.40938305, -1.38971495],\n",
              "       [-1.35818204, -1.05450871,  0.41469281,  0.11450465]])"
            ]
          },
          "execution_count": 37,
          "metadata": {},
          "output_type": "execute_result"
        }
      ],
      "source": [
        "# Array of random numbers - each is generated from Gaussian curve on (0,1)\n",
        "np.random.randn(3,4)"
      ]
    },
    {
      "cell_type": "markdown",
      "metadata": {
        "id": "89QEFhcgfNUA"
      },
      "source": [
        "Just a visualisation - what's the difference:"
      ]
    },
    {
      "cell_type": "code",
      "execution_count": null,
      "metadata": {
        "colab": {
          "base_uri": "https://localhost:8080/",
          "height": 347
        },
        "id": "e9wZ6VhTYRLv",
        "outputId": "03309f53-8d57-4ebc-b12a-ec832f551d75"
      },
      "outputs": [
        {
          "data": {
            "image/png": "[encoded data removed]",
            "text/plain": [
              "<Figure size 480x360 with 1 Axes>"
            ]
          },
          "metadata": {},
          "output_type": "display_data"
        }
      ],
      "source": [
        "import matplotlib.pyplot as plt\n",
        "plt.figure(figsize=(4,3), dpi=120)\n",
        "plt.plot(np.random.randn(5000), 'b.', alpha = 0.3)\n",
        "plt.plot(np.random.rand(5000), 'r.', alpha=0.3)\n",
        "plt.show()"
      ]
    },
    {
      "cell_type": "code",
      "execution_count": null,
      "metadata": {
        "id": "e5famyFwYRAt",
        "outputId": "2e51866a-1d70-4ede-da68-5701f1c19ce6"
      },
      "outputs": [
        {
          "data": {
            "image/png": "[encoded data removed]",
            "text/plain": [
              "<Figure size 480x360 with 1 Axes>"
            ]
          },
          "metadata": {},
          "output_type": "display_data"
        }
      ],
      "source": [
        "import matplotlib.pyplot as plt\n",
        "plt.figure(figsize=(4, 3), dpi=120)\n",
        "plt.hist(np.random.rand(5000), bins=np.linspace(-4, 4, 50), alpha=0.7)  # Set alpha to 0.5 for transparency\n",
        "plt.hist(np.random.randn(5000), bins=np.linspace(-4, 4, 50), alpha=0.7)  # Set alpha to 0.5 for transparency\n",
        "plt.show()\n"
      ]
    },
    {
      "cell_type": "markdown",
      "metadata": {
        "id": "CdQ1YtgjfNUA"
      },
      "source": [
        "(We will learn plotting figures next time.)"
      ]
    },
    {
      "cell_type": "code",
      "execution_count": null,
      "metadata": {
        "id": "8IlNaFxNfNUB",
        "outputId": "cc8dc664-cb54-4a41-cb64-6ac65ee4caf1"
      },
      "outputs": [
        {
          "data": {
            "text/plain": [
              "array([[0, 9, 3],\n",
              "       [4, 9, 0],\n",
              "       [0, 9, 9]])"
            ]
          },
          "execution_count": 40,
          "metadata": {},
          "output_type": "execute_result"
        }
      ],
      "source": [
        "# reminder: array with random integers\n",
        "np.random.randint(0, 10, size=(3, 3))"
      ]
    },
    {
      "cell_type": "markdown",
      "metadata": {
        "id": "zoymNVMVqXYG"
      },
      "source": [
        "### Array arithmetics"
      ]
    },
    {
      "cell_type": "markdown",
      "metadata": {
        "id": "N0n3hCJJfNUB"
      },
      "source": [
        "Let's have these two matrices:\n",
        "\n",
        "$$ \\mathbb{A} =\n",
        "\\begin{pmatrix}\n",
        "1 & 2 \\\\\n",
        "3 & 4 \\\\\n",
        "\\end{pmatrix} ,\n",
        "\n",
        "\\quad \\quad\n",
        "\n",
        "\\mathbb{B} =\n",
        "\\begin{pmatrix}\n",
        "5 & 6 \\\\\n",
        "7 & 8 \\\\\n",
        "\\end{pmatrix}\n",
        "\n",
        "$$\n",
        "\n"
      ]
    },
    {
      "cell_type": "code",
      "execution_count": null,
      "metadata": {
        "id": "AFhIaOKmfNUB"
      },
      "outputs": [],
      "source": [
        "A = np.array([[1, 2],[3, 4]])\n",
        "B = np.array([[5, 6],[7, 8]])"
      ]
    },
    {
      "cell_type": "code",
      "execution_count": null,
      "metadata": {
        "id": "ls0zJdVxfNUB",
        "outputId": "e843c5d9-c1de-49d4-ce9e-0af01cdd5f5a"
      },
      "outputs": [
        {
          "data": {
            "text/plain": [
              "array([[ 6,  8],\n",
              "       [10, 12]])"
            ]
          },
          "execution_count": 42,
          "metadata": {},
          "output_type": "execute_result"
        }
      ],
      "source": [
        "# sum of those matrices:\n",
        "A+B"
      ]
    },
    {
      "cell_type": "code",
      "execution_count": null,
      "metadata": {
        "id": "bhu7oieQfNUC",
        "outputId": "1554702c-d5f6-426c-eac2-015391f3721f"
      },
      "outputs": [
        {
          "data": {
            "text/plain": [
              "array([[-4, -4],\n",
              "       [-4, -4]])"
            ]
          },
          "execution_count": 43,
          "metadata": {},
          "output_type": "execute_result"
        }
      ],
      "source": [
        "A-B"
      ]
    },
    {
      "cell_type": "code",
      "execution_count": null,
      "metadata": {
        "id": "-NGxVYlifNUC",
        "outputId": "76e084bb-8ef9-4fad-98c2-2d897acc3973"
      },
      "outputs": [
        {
          "data": {
            "text/plain": [
              "array([[19, 22],\n",
              "       [43, 50]])"
            ]
          },
          "execution_count": 44,
          "metadata": {},
          "output_type": "execute_result"
        }
      ],
      "source": [
        "# dot product (cz. maticové násobení)\n",
        "np.dot(A, B)"
      ]
    },
    {
      "cell_type": "code",
      "execution_count": null,
      "metadata": {
        "id": "Yu0HSwg6fNUC",
        "outputId": "d9459471-b419-4c16-b5ae-e6ed9cb8e6dd"
      },
      "outputs": [
        {
          "data": {
            "text/plain": [
              "array([[19, 22],\n",
              "       [43, 50]])"
            ]
          },
          "execution_count": 45,
          "metadata": {},
          "output_type": "execute_result"
        }
      ],
      "source": [
        "# or equivalently:\n",
        "A @ B"
      ]
    },
    {
      "cell_type": "markdown",
      "metadata": {
        "id": "u_ii2dW6fNUC"
      },
      "source": [
        "You can test it by hand 😜:\n",
        "\n",
        "$$\n",
        "\\mathbb{A} \\cdot \\mathbb{B} =\n",
        "\n",
        "\\begin{pmatrix}\n",
        "1 & 2 \\\\\n",
        "3 & 4 \\\\\n",
        "\\end{pmatrix}\n",
        "\n",
        "\\cdot\n",
        "\n",
        "\\begin{pmatrix}\n",
        "5 & 6 \\\\\n",
        "7 & 8 \\\\\n",
        "\\end{pmatrix}\n",
        "\n",
        "=\n",
        "\n",
        "\\begin{pmatrix}\n",
        "19 & 22 \\\\\n",
        "43 & 50 \\\\\n",
        "\\end{pmatrix}\n",
        "\n",
        "$$"
      ]
    },
    {
      "cell_type": "code",
      "execution_count": null,
      "metadata": {
        "id": "spvCKS3VfNUD",
        "outputId": "b978bd03-d06d-40d2-c24b-9e9cd6544979"
      },
      "outputs": [
        {
          "data": {
            "text/plain": [
              "array([[ 5, 12],\n",
              "       [21, 32]])"
            ]
          },
          "execution_count": 46,
          "metadata": {},
          "output_type": "execute_result"
        }
      ],
      "source": [
        "# element-wise product (cz. násobení po prvcích)\n",
        "np.multiply(A, B)"
      ]
    },
    {
      "cell_type": "code",
      "execution_count": null,
      "metadata": {
        "id": "qTaFcq2UfNUD",
        "outputId": "55a703ba-f7c9-4fff-fa8a-2b7a788d081c"
      },
      "outputs": [
        {
          "data": {
            "text/plain": [
              "array([[ 5, 12],\n",
              "       [21, 32]])"
            ]
          },
          "execution_count": 47,
          "metadata": {},
          "output_type": "execute_result"
        }
      ],
      "source": [
        "# or equivalently:\n",
        "A * B"
      ]
    },
    {
      "cell_type": "markdown",
      "metadata": {
        "id": "lRFbrBSUqayn"
      },
      "source": [
        "### Intermezzo: speed comparison (proof that it makes sense to use NumPy)\n",
        "\n",
        "NumPy is much better optimized (in sense of speed of computation). Here I demonstrate it:\n",
        "\n",
        " - below is function `my_dot_product` which multiplies two `list`s (not `ndarray`s)\n",
        " - then it's called with two anonymous lists with randomly generated numbers\n",
        "\n",
        "Time measurement is performed in jupyter notebook via \"magic command\" `%timeit`."
      ]
    },
    {
      "cell_type": "code",
      "execution_count": null,
      "metadata": {
        "id": "qxO5rN9hYQwL"
      },
      "outputs": [],
      "source": [
        "def my_dot_product(list1, list2):\n",
        "    result = 0\n",
        "    for i in range(len(list1)):\n",
        "        result = result + list1[i] * list2[i]\n",
        "\n",
        "    return result"
      ]
    },
    {
      "cell_type": "markdown",
      "metadata": {
        "id": "7clO-UGrfNUD"
      },
      "source": [
        "1. let's measure how quick this function computes:"
      ]
    },
    {
      "cell_type": "code",
      "execution_count": null,
      "metadata": {
        "id": "g3n4fpatfNUE",
        "outputId": "ea4fd38d-ddd5-443a-d1e8-5a5c2802cc01"
      },
      "outputs": [
        {
          "name": "stdout",
          "output_type": "stream",
          "text": [
            "16.8 ms ± 388 µs per loop (mean ± std. dev. of 7 runs, 100 loops each)\n"
          ]
        }
      ],
      "source": [
        "%timeit my_dot_product(list(np.random.randint(0, 10, size=(10000,1))), list(np.random.randint(0, 10, size=(10000,1))))"
      ]
    },
    {
      "cell_type": "markdown",
      "metadata": {
        "id": "J9Bmt5m8fNUE"
      },
      "source": [
        "2. now let's perform the same multiplication via native functionality in NumPy:"
      ]
    },
    {
      "cell_type": "code",
      "execution_count": null,
      "metadata": {
        "id": "30AFNU0CfNUE",
        "outputId": "fd81b84a-e15e-4854-8cc2-2619cc09b3dd"
      },
      "outputs": [
        {
          "name": "stdout",
          "output_type": "stream",
          "text": [
            "289 µs ± 3.48 µs per loop (mean ± std. dev. of 7 runs, 1,000 loops each)\n"
          ]
        }
      ],
      "source": [
        "%timeit np.random.randint(0, 10, size=(10000,1)).T @ np.random.randint(0, 10, size=(10000,1))"
      ]
    },
    {
      "cell_type": "markdown",
      "metadata": {
        "id": "xRTN3CJSfNUE"
      },
      "source": [
        "The difference is obvious 😉"
      ]
    },
    {
      "cell_type": "code",
      "execution_count": null,
      "metadata": {
        "id": "Xj83pl9GfNUE",
        "outputId": "36444738-1505-48ac-acdb-008e9112196c"
      },
      "outputs": [
        {
          "data": {
            "text/plain": [
              "56.0"
            ]
          },
          "execution_count": 51,
          "metadata": {},
          "output_type": "execute_result"
        }
      ],
      "source": [
        "16800 / 300"
      ]
    },
    {
      "cell_type": "code",
      "execution_count": null,
      "metadata": {
        "id": "kSpzGsaifNUF"
      },
      "outputs": [],
      "source": []
    },
    {
      "cell_type": "markdown",
      "metadata": {
        "id": "dgtMo2LKfNUF"
      },
      "source": [
        "### Working with array\n",
        "~ quite similar to lists"
      ]
    },
    {
      "cell_type": "code",
      "execution_count": null,
      "metadata": {
        "id": "2PFZluhHfNUF",
        "outputId": "f6f46d76-005f-425b-d65a-d9a8b5dc0f2a"
      },
      "outputs": [
        {
          "data": {
            "text/plain": [
              "array([[1, 2],\n",
              "       [3, 4]])"
            ]
          },
          "execution_count": 52,
          "metadata": {},
          "output_type": "execute_result"
        }
      ],
      "source": [
        "matrix = np.array([[1, 2], [3, 4]], dtype=int)\n",
        "matrix"
      ]
    },
    {
      "cell_type": "markdown",
      "metadata": {
        "id": "KvWSI4QOfNUF"
      },
      "source": [
        "Access to elements:"
      ]
    },
    {
      "cell_type": "code",
      "execution_count": null,
      "metadata": {
        "id": "qttIQW_bfNUF",
        "outputId": "475cbd04-492a-4949-885d-a990f6614321"
      },
      "outputs": [
        {
          "data": {
            "text/plain": [
              "4"
            ]
          },
          "execution_count": 53,
          "metadata": {},
          "output_type": "execute_result"
        }
      ],
      "source": [
        "matrix[1, 1]"
      ]
    },
    {
      "cell_type": "markdown",
      "metadata": {
        "id": "fymhSV1cfNUG"
      },
      "source": [
        "Rewriting elements:"
      ]
    },
    {
      "cell_type": "code",
      "execution_count": null,
      "metadata": {
        "id": "ZcgutjxKfNUG",
        "outputId": "276530a3-56a5-4086-aadc-2e932dd7b627"
      },
      "outputs": [
        {
          "data": {
            "text/plain": [
              "array([[  1,   2],\n",
              "       [  3, 100]])"
            ]
          },
          "execution_count": 54,
          "metadata": {},
          "output_type": "execute_result"
        }
      ],
      "source": [
        "matrix[1, 1] = 100\n",
        "matrix"
      ]
    },
    {
      "cell_type": "markdown",
      "metadata": {
        "id": "BGRgJqXKfNUG"
      },
      "source": [
        "Rewriting whole column/row:"
      ]
    },
    {
      "cell_type": "code",
      "execution_count": null,
      "metadata": {
        "id": "doG-p2_dfNUG",
        "outputId": "15b92adb-fecd-45d2-cc12-0e1401b0cc97"
      },
      "outputs": [
        {
          "data": {
            "text/plain": [
              "array([[ 1,  2],\n",
              "       [-1, -1]])"
            ]
          },
          "execution_count": 55,
          "metadata": {},
          "output_type": "execute_result"
        }
      ],
      "source": [
        "matrix[1,:] = -1\n",
        "matrix"
      ]
    },
    {
      "cell_type": "markdown",
      "metadata": {
        "id": "bvJz926ufNUG"
      },
      "source": [
        "From n-D array to 1-D array (\"flattening matrices into long vectors\"):"
      ]
    },
    {
      "cell_type": "code",
      "execution_count": null,
      "metadata": {
        "id": "shQk3f6tfNUH",
        "outputId": "e75b7a47-f46a-404e-efe7-3928393f2b52"
      },
      "outputs": [
        {
          "data": {
            "text/plain": [
              "array([ 1,  2, -1, -1])"
            ]
          },
          "execution_count": 56,
          "metadata": {},
          "output_type": "execute_result"
        }
      ],
      "source": [
        "matrix.flatten()"
      ]
    },
    {
      "cell_type": "markdown",
      "metadata": {
        "id": "hdVNtjMffNUH"
      },
      "source": [
        "Slicing: allows you to access a portion of an array\n",
        "> array[start:end:step]"
      ]
    },
    {
      "cell_type": "code",
      "execution_count": null,
      "metadata": {
        "id": "EcupSk9RfNUH",
        "outputId": "4b53060a-5c3d-466d-c9e8-e90b1b443cf8"
      },
      "outputs": [
        {
          "data": {
            "text/plain": [
              "array([2, 3, 4])"
            ]
          },
          "execution_count": 57,
          "metadata": {},
          "output_type": "execute_result"
        }
      ],
      "source": [
        "arr = np.array([1, 2, 3, 4, 5])\n",
        "arr[1:4]"
      ]
    },
    {
      "cell_type": "code",
      "execution_count": null,
      "metadata": {
        "id": "Sz2PD15afNUI",
        "outputId": "98b3be32-be28-4f63-8318-70039f6d09d4"
      },
      "outputs": [
        {
          "data": {
            "text/plain": [
              "array([[1, 2],\n",
              "       [3, 4],\n",
              "       [5, 6]])"
            ]
          },
          "execution_count": 58,
          "metadata": {},
          "output_type": "execute_result"
        }
      ],
      "source": [
        "arr = np.array([[1, 2, 3], [4, 5, 6]])\n",
        "reshaped_arr = np.reshape(arr, (3, 2))\n",
        "reshaped_arr"
      ]
    },
    {
      "cell_type": "markdown",
      "metadata": {
        "id": "whF9TSYwfNUI"
      },
      "source": [
        "Concatenation of `ndarray`s:"
      ]
    },
    {
      "cell_type": "code",
      "execution_count": null,
      "metadata": {
        "id": "uYOT0lPkfNUI",
        "outputId": "f11c73e6-f047-4c6c-bf8b-dadd2227d35d"
      },
      "outputs": [
        {
          "data": {
            "text/plain": [
              "array([[1, 2],\n",
              "       [3, 4],\n",
              "       [5, 6],\n",
              "       [7, 8]])"
            ]
          },
          "execution_count": 59,
          "metadata": {},
          "output_type": "execute_result"
        }
      ],
      "source": [
        "C = np.concatenate([A, B], axis=0)\n",
        "C"
      ]
    },
    {
      "cell_type": "code",
      "execution_count": null,
      "metadata": {
        "id": "WU4PdY5HfNUJ",
        "outputId": "e6a80968-ef80-480a-c9c8-873e0c51f703"
      },
      "outputs": [
        {
          "data": {
            "text/plain": [
              "array([[1, 2, 5, 6],\n",
              "       [3, 4, 7, 8]])"
            ]
          },
          "execution_count": 60,
          "metadata": {},
          "output_type": "execute_result"
        }
      ],
      "source": [
        "D = np.concatenate([A, B], axis=1)\n",
        "D"
      ]
    },
    {
      "cell_type": "code",
      "execution_count": null,
      "metadata": {
        "id": "WbSY0coyfNUJ"
      },
      "outputs": [],
      "source": [
        "tocovracim = objekt.jehometoda(implicitniargument, explicitniargument = hodnota)"
      ]
    },
    {
      "cell_type": "markdown",
      "metadata": {
        "id": "sjCg_KXnfNUJ"
      },
      "source": [
        "### Mathematical functions\n",
        "\n",
        "NumPy provides wide range of mathematical functions which can be applied on `int` or `float` and also on `ndarray`. They act on `ndarray` *element-wise*.\n",
        "\n",
        "*Examples:*"
      ]
    },
    {
      "cell_type": "markdown",
      "metadata": {
        "id": "dJNwmyqBfNUK"
      },
      "source": [
        "#### Trigonometric functions:"
      ]
    },
    {
      "cell_type": "code",
      "execution_count": null,
      "metadata": {
        "id": "Gxj0jEjsfNUK",
        "outputId": "1645660a-7da0-49e2-e980-3a0a5b0d5e83"
      },
      "outputs": [
        {
          "name": "stdout",
          "output_type": "stream",
          "text": [
            "arr =  [0.         6.28318531 3.14159265]\n",
            "Sine: [ 0.0000000e+00 -2.4492936e-16  1.2246468e-16]\n",
            "Cosine: [ 1.  1. -1.]\n",
            "Tangent: [ 0.0000000e+00 -2.4492936e-16 -1.2246468e-16]\n"
          ]
        }
      ],
      "source": [
        "arr = np.array([0, np.pi*2, np.pi])\n",
        "print(\"arr = \", arr)\n",
        "\n",
        "# Sine function\n",
        "sine_values = np.sin(arr)\n",
        "print(\"Sine:\", sine_values)\n",
        "\n",
        "# Cosine function\n",
        "cosine_values = np.cos(arr)\n",
        "print(\"Cosine:\", cosine_values)\n",
        "\n",
        "# Tangent function\n",
        "tangent_values = np.tan(arr)\n",
        "print(\"Tangent:\", tangent_values)"
      ]
    },
    {
      "cell_type": "markdown",
      "metadata": {
        "id": "1uPlwxXFfNUK"
      },
      "source": [
        "#### Exponential and different logarithms:"
      ]
    },
    {
      "cell_type": "code",
      "execution_count": null,
      "metadata": {
        "id": "JoNxDtoqfNUK",
        "outputId": "22efb655-67c9-4463-e59c-7917c54eeb36"
      },
      "outputs": [
        {
          "name": "stdout",
          "output_type": "stream",
          "text": [
            "Exponential: [ 2.71828183  7.3890561  20.08553692]\n",
            "Natural Logarithm: [0.         0.69314718 1.09861229]\n",
            "Common Logarithm: [0.         0.30103    0.47712125]\n",
            "Base 2 Logarithm: [0.        1.        1.5849625]\n"
          ]
        }
      ],
      "source": [
        "arr = np.array([1, 2, 3])\n",
        "\n",
        "# Exponential function (e^x)\n",
        "exp_values = np.exp(arr)\n",
        "print(\"Exponential:\", exp_values)\n",
        "\n",
        "# Natural logarithm (base e)\n",
        "log_values = np.log(arr)\n",
        "print(\"Natural Logarithm:\", log_values)\n",
        "\n",
        "# Common logarithm (base 10)\n",
        "log10_values = np.log10(arr)\n",
        "print(\"Common Logarithm:\", log10_values)\n",
        "\n",
        "# Logarithm of base 2\n",
        "log2_values = np.log2(arr)\n",
        "print(\"Base 2 Logarithm:\", log2_values)"
      ]
    },
    {
      "cell_type": "markdown",
      "metadata": {
        "id": "SlB4ENj0fNUK"
      },
      "source": [
        "#### Basic statistical functions:"
      ]
    },
    {
      "cell_type": "code",
      "execution_count": null,
      "metadata": {
        "id": "WH4lLDXdfNUK",
        "outputId": "b2f38094-928e-4c78-9c6f-f2ab0386483c"
      },
      "outputs": [
        {
          "name": "stdout",
          "output_type": "stream",
          "text": [
            "Mean: 3.0\n",
            "Median: 3.0\n",
            "Standard Deviation: 1.4142135623730951\n",
            "Variance: 2.0\n",
            "Minimum Value: 1\n",
            "Maximum Value: 5\n"
          ]
        }
      ],
      "source": [
        "arr = np.array([1, 2, 3, 4, 5])\n",
        "\n",
        "# Mean\n",
        "mean_value = np.mean(arr)\n",
        "print(\"Mean:\", mean_value)\n",
        "\n",
        "# Median\n",
        "median_value = np.median(arr)\n",
        "print(\"Median:\", median_value)\n",
        "\n",
        "# Standard deviation\n",
        "std_value = np.std(arr)\n",
        "print(\"Standard Deviation:\", std_value)\n",
        "\n",
        "# Variance\n",
        "var_value = np.var(arr)\n",
        "print(\"Variance:\", var_value)\n",
        "\n",
        "# Minimum value\n",
        "min_value = np.min(arr)\n",
        "print(\"Minimum Value:\", min_value)\n",
        "\n",
        "# Maximum value\n",
        "max_value = np.max(arr)\n",
        "print(\"Maximum Value:\", max_value)\n"
      ]
    },
    {
      "cell_type": "markdown",
      "metadata": {
        "id": "8d2cZuQ4fNUL"
      },
      "source": [
        "## What was omitted?\n",
        "\n",
        " - reading an array from text file --> next time\n",
        " - plotting values --> next time (different package)\n",
        " - ....\n",
        "\n",
        " [tutorials on NumPy](https://numpy.org/numpy-tutorials/index.html)\n"
      ]
    },
    {
      "cell_type": "code",
      "execution_count": null,
      "metadata": {
        "id": "l8u_VNF1fNUL"
      },
      "outputs": [],
      "source": []
    },
    {
      "cell_type": "markdown",
      "metadata": {
        "id": "KaHauge9fNUL"
      },
      "source": [
        "😵‍💫 If you are a little lost, don't worry : next time we start plotting graphs, so we will need to work with NumPy arrays and some functions -> we will see these things one more time **in practice**."
      ]
    },
    {
      "cell_type": "code",
      "execution_count": null,
      "metadata": {
        "id": "_7N2PJSNfNUL"
      },
      "outputs": [],
      "source": []
    },
    {
      "cell_type": "markdown",
      "metadata": {
        "id": "-i63g3rWfNUL"
      },
      "source": [
        "## Optional homework:\n",
        "\n",
        "*task:* write a function, that will take a matrix, and:\n",
        " - check if the matrix is square\n",
        " - if it's square, return its determinant (`np.det(A)`)\n",
        " - if it's *not* rectangular, reshape it so it's square and then return its determinant\n",
        " - if reshaping is not possible (odd number of elements), fill it with ones\n",
        "\n",
        "(use library NumPy)"
      ]
    },
    {
      "cell_type": "markdown",
      "metadata": {
        "id": "5xubK6qTfNUL"
      },
      "source": []
    },
    {
      "cell_type": "code",
      "execution_count": null,
      "metadata": {
        "id": "PIjJ2DqIfNUL"
      },
      "outputs": [],
      "source": []
    },
    {
      "cell_type": "code",
      "execution_count": null,
      "metadata": {
        "id": "RE_E7GNmfNUM"
      },
      "outputs": [],
      "source": []
    }
  ],
  "metadata": {
    "colab": {
      "provenance": [],
      "toc_visible": true,
      "include_colab_link": true
    },
    "kernelspec": {
      "display_name": "Python 3",
      "name": "python3"
    },
    "language_info": {
      "codemirror_mode": {
        "name": "ipython",
        "version": 3
      },
      "file_extension": ".py",
      "mimetype": "text/x-python",
      "name": "python",
      "nbconvert_exporter": "python",
      "pygments_lexer": "ipython3",
      "version": "3.12.2"
    }
  },
  "nbformat": 4,
  "nbformat_minor": 0
}