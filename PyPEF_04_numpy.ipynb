{
  "cells": [
    {
      "cell_type": "markdown",
      "metadata": {
        "id": "view-in-github",
        "colab_type": "text"
      },
      "source": [
        "<a href=\"https://colab.research.google.com/github/aleksejalex/PyPEF/blob/main/PyPEF_04_numpy.ipynb\" target=\"_parent\"><img src=\"https://colab.research.google.com/assets/colab-badge.svg\" alt=\"Open In Colab\"/></a>"
      ]
    },
    {
      "cell_type": "markdown",
      "metadata": {
        "id": "BJ38-zM8iNpQ"
      },
      "source": [
        "# PyPEF, lecture 04. Numerical computations in Python: package NumPy.\n",
        "\n",
        "Prepared by: Aleksej Gaj ( pythonforstudents24@gmail.com )\n",
        "\n",
        "🔗 Course website: [https://aleksejalex.4fan.cz/pef_python/](https://aleksejalex.4fan.cz/pef_python/)\n"
      ]
    },
    {
      "cell_type": "markdown",
      "metadata": {
        "id": "ZEI2YaSwiPFc"
      },
      "source": [
        "In this tutorial we familiarize ourselves with\n",
        " - library NumPy: general philosophy, arrays, operations on them, functions\n"
      ]
    },
    {
      "cell_type": "markdown",
      "metadata": {
        "id": "wEIHfEJeBtWE"
      },
      "source": [
        "### Solution of the optional homework:\n",
        "**task:** write a function that will take a list of numbers, test whether list contains numbers only (only type `int` and `float` is applowed) and will return median of those numbers.\n",
        "  "
      ]
    },
    {
      "cell_type": "code",
      "execution_count": 1,
      "metadata": {
        "colab": {
          "base_uri": "https://localhost:8080/"
        },
        "id": "_nvxZ7eRSZGs",
        "outputId": "da750b7a-efd5-4c21-990c-7c2152cca0a6"
      },
      "outputs": [
        {
          "output_type": "stream",
          "name": "stdout",
          "text": [
            "Median: 4\n"
          ]
        }
      ],
      "source": [
        "def calculate_median(numbers:list):\n",
        "    valid_numbers = []\n",
        "    for num in numbers:\n",
        "        if isinstance(num, (int, float)):\n",
        "            valid_numbers.append(num)\n",
        "\n",
        "    valid_numbers.sort()\n",
        "    length = len(valid_numbers)\n",
        "\n",
        "    if length == 0:\n",
        "        return None\n",
        "    elif length % 2 == 0:\n",
        "        middle = length // 2\n",
        "        return (valid_numbers[middle - 1] + valid_numbers[middle]) / 2\n",
        "    else:\n",
        "        return valid_numbers[length // 2]\n",
        "\n",
        "# Example usage:\n",
        "number_list = [1, 2.5, 3, 4, 5, 1000, 2000]\n",
        "#number_list = [1, 2, 3, 4]\n",
        "median = calculate_median(number_list)\n",
        "print(\"Median:\", median)\n"
      ]
    },
    {
      "cell_type": "markdown",
      "metadata": {
        "id": "hy8umUnHmcN8"
      },
      "source": [
        "## Optional homework (new):\n",
        "*task:* write a function `gauss()` that will return a value of Gaussian probability distribution function.\n",
        "Make mean value $\\mu$ (`mu`) and dispersion $\\sigma$ (`sigma`) optional arguments.\n",
        "\n",
        "Hint/reminder:\n",
        "$$\n",
        "    y = \\frac{1}{\\sqrt{2 \\pi \\sigma^2} } e^{- \\frac{(x - \\mu)^2}{2 \\sigma^2}}\n",
        "$$\n",
        "\n",
        "Default values: $\\mu = 0$, $\\sigma = 1$.\n",
        "\n",
        "(more on gaussian curve >> [here](https://en.wikipedia.org/wiki/Normal_distribution))"
      ]
    },
    {
      "cell_type": "code",
      "execution_count": null,
      "metadata": {
        "id": "1rpMqqYCm449"
      },
      "outputs": [],
      "source": [
        "def gauss():\n",
        "    pass\n",
        "\n",
        "x = 1\n",
        "y = gauss(x)\n",
        "y = gauss(x, mu=2, sigma=0.2)"
      ]
    },
    {
      "cell_type": "markdown",
      "metadata": {
        "id": "ndzSQjkBcmQ5"
      },
      "source": [
        "### Inheritance.\n",
        "\n"
      ]
    },
    {
      "cell_type": "code",
      "execution_count": 3,
      "metadata": {
        "id": "TO0-vDrRcjCj"
      },
      "outputs": [],
      "source": [
        "# next time"
      ]
    },
    {
      "cell_type": "markdown",
      "metadata": {
        "id": "CsS_W8B1BtV5"
      },
      "source": [
        "## Recall: containers.\n",
        "Python uses several containers:\n",
        " - list\n",
        "\n",
        "\n",
        "| Type         | Description                                | Example                   |\n",
        "|--------------|--------------------------------------------|---------------------------|\n",
        "| list         | Ordered collection of items                | `my_list = [1, 2, 3]`     |\n",
        "| tuple        | Immutable ordered collection of items      | `my_tuple = (1, 2, 3)`    |\n",
        "| set          | Unordered collection of unique items       | `my_set = {1, 2, 3}`      |\n",
        "| dict         | Collection of key-value pairs              | `my_dict = {'eggs': 6, 'apples': 3, 'cookies': \"chocolate\"}`|\n"
      ]
    },
    {
      "cell_type": "code",
      "execution_count": 3,
      "metadata": {
        "id": "C_aSZ5CoKr7r"
      },
      "outputs": [],
      "source": []
    },
    {
      "cell_type": "markdown",
      "metadata": {
        "id": "RihzJYIrcs4Z"
      },
      "source": [
        "## Technical recall 1: printing objects"
      ]
    },
    {
      "cell_type": "code",
      "execution_count": 1,
      "metadata": {
        "id": "EH4Hnrowcsb_"
      },
      "outputs": [],
      "source": [
        "class Cat:\n",
        "    def __init__(self, weight = 10):\n",
        "        self.weight = weight\n",
        "\n",
        "    def __repr__(self):\n",
        "        # string representation of the object\n",
        "        # this fction is called when object is called in ipython (just variable in notebook)\n",
        "        return f'Just a cat with weight of {self.weight} kg'\n",
        "\n",
        "    def __str__(self):\n",
        "        # string representation of object's value\n",
        "        # this fction is called when object is being printed\n",
        "        return f'This cat was printed, meow 🐾'"
      ]
    },
    {
      "cell_type": "code",
      "execution_count": 2,
      "metadata": {
        "id": "363EzQ4ac9q-"
      },
      "outputs": [],
      "source": [
        "my_cat = Cat()"
      ]
    },
    {
      "cell_type": "code",
      "execution_count": 3,
      "metadata": {
        "colab": {
          "base_uri": "https://localhost:8080/"
        },
        "id": "h-kigbYTdYJF",
        "outputId": "47ed5eea-47a2-4946-f9b5-741b9d574739"
      },
      "outputs": [
        {
          "output_type": "execute_result",
          "data": {
            "text/plain": [
              "Just a cat with weight of 10 kg"
            ]
          },
          "metadata": {},
          "execution_count": 3
        }
      ],
      "source": [
        "my_cat"
      ]
    },
    {
      "cell_type": "code",
      "execution_count": 4,
      "metadata": {
        "colab": {
          "base_uri": "https://localhost:8080/"
        },
        "id": "V8SdzLp5daCv",
        "outputId": "07b5f9d7-f69a-4480-a314-014b4952e572"
      },
      "outputs": [
        {
          "output_type": "stream",
          "name": "stdout",
          "text": [
            "This cat was printed, meow 🐾\n"
          ]
        }
      ],
      "source": [
        "print(my_cat)"
      ]
    },
    {
      "cell_type": "markdown",
      "metadata": {
        "id": "yH_KW0TbViu1"
      },
      "source": [
        "## Technical recall 2: how to import packages and how to use them"
      ]
    },
    {
      "cell_type": "code",
      "execution_count": 5,
      "metadata": {
        "colab": {
          "base_uri": "https://localhost:8080/"
        },
        "id": "fz_d2YTtXTiY",
        "outputId": "b118028e-3838-4706-bb26-7689c84a7e4b"
      },
      "outputs": [
        {
          "output_type": "stream",
          "name": "stdout",
          "text": [
            "Variable   Type    Data/Info\n",
            "----------------------------\n",
            "Cat        type    <class '__main__.Cat'>\n",
            "my_cat     Cat     This cat was printed, meow 🐾\n"
          ]
        }
      ],
      "source": [
        "# keyword of interactive python (iPython), which runs .ipynb notebooks\n",
        "%whos"
      ]
    },
    {
      "cell_type": "markdown",
      "metadata": {
        "id": "IcaiyGxnVqP3"
      },
      "source": [
        "3 ways how to import in Python:"
      ]
    },
    {
      "cell_type": "code",
      "execution_count": 6,
      "metadata": {
        "id": "ArRLrdN3Vofq"
      },
      "outputs": [],
      "source": [
        "# 1. directly (usually ineficient)\n",
        "import math"
      ]
    },
    {
      "cell_type": "code",
      "source": [
        "%whos"
      ],
      "metadata": {
        "colab": {
          "base_uri": "https://localhost:8080/"
        },
        "id": "pN0MIcAl6409",
        "outputId": "c24345d5-c964-4046-caf8-7c0b6ad85deb"
      },
      "execution_count": 7,
      "outputs": [
        {
          "output_type": "stream",
          "name": "stdout",
          "text": [
            "Variable   Type      Data/Info\n",
            "------------------------------\n",
            "Cat        type      <class '__main__.Cat'>\n",
            "math       module    <module 'math' (built-in)>\n",
            "my_cat     Cat       This cat was printed, meow 🐾\n"
          ]
        }
      ]
    },
    {
      "cell_type": "markdown",
      "source": [
        "✨ We see there `math` as object of type `module`."
      ],
      "metadata": {
        "id": "ZFqn35AC69FS"
      }
    },
    {
      "cell_type": "code",
      "execution_count": 8,
      "metadata": {
        "colab": {
          "base_uri": "https://localhost:8080/"
        },
        "id": "WNQy0S4LV5Ie",
        "outputId": "6a29c3d7-ecf9-4541-cca7-f43397ae661f"
      },
      "outputs": [
        {
          "output_type": "execute_result",
          "data": {
            "text/plain": [
              "1.0"
            ]
          },
          "metadata": {},
          "execution_count": 8
        }
      ],
      "source": [
        "math.cos(2 * math.pi)"
      ]
    },
    {
      "cell_type": "code",
      "execution_count": 9,
      "metadata": {
        "id": "LuPpp3x9Vobn"
      },
      "outputs": [],
      "source": [
        "# 2. via reference (most common, highly recomended)\n",
        "import math as mt"
      ]
    },
    {
      "cell_type": "code",
      "execution_count": 10,
      "metadata": {
        "colab": {
          "base_uri": "https://localhost:8080/"
        },
        "id": "0de3kXivVoSX",
        "outputId": "2dbee9e3-c44d-4b51-ccda-347e06dc42c0"
      },
      "outputs": [
        {
          "output_type": "execute_result",
          "data": {
            "text/plain": [
              "1.0"
            ]
          },
          "metadata": {},
          "execution_count": 10
        }
      ],
      "source": [
        "mt.cos(2 * mt.pi)"
      ]
    },
    {
      "cell_type": "code",
      "execution_count": 11,
      "metadata": {
        "id": "hDpD-ACFWH6o"
      },
      "outputs": [],
      "source": [
        "# 3. selectively (good in cases, when you need only one/two objects from the library)\n",
        "from math import cos, pi"
      ]
    },
    {
      "cell_type": "code",
      "execution_count": 12,
      "metadata": {
        "id": "Ob_YIVYIWxS5",
        "colab": {
          "base_uri": "https://localhost:8080/"
        },
        "outputId": "6724f047-c548-4860-878b-012dbf38a748"
      },
      "outputs": [
        {
          "output_type": "execute_result",
          "data": {
            "text/plain": [
              "1.0"
            ]
          },
          "metadata": {},
          "execution_count": 12
        }
      ],
      "source": [
        "cos(2*pi)"
      ]
    },
    {
      "cell_type": "code",
      "execution_count": 13,
      "metadata": {
        "id": "d8fVtzoGWH1r"
      },
      "outputs": [],
      "source": [
        "# 4. everything from library (NOT recomended, unless you import something small or you really need all objects inside)\n",
        "from math import *"
      ]
    },
    {
      "cell_type": "code",
      "execution_count": 14,
      "metadata": {
        "colab": {
          "base_uri": "https://localhost:8080/"
        },
        "id": "V8JXKVhhWe5m",
        "outputId": "f09ea861-dd20-4e3d-d280-9448ea1ebf85"
      },
      "outputs": [
        {
          "output_type": "stream",
          "name": "stdout",
          "text": [
            "Variable    Type                          Data/Info\n",
            "---------------------------------------------------\n",
            "Cat         type                          <class '__main__.Cat'>\n",
            "acos        builtin_function_or_method    <built-in function acos>\n",
            "acosh       builtin_function_or_method    <built-in function acosh>\n",
            "asin        builtin_function_or_method    <built-in function asin>\n",
            "asinh       builtin_function_or_method    <built-in function asinh>\n",
            "atan        builtin_function_or_method    <built-in function atan>\n",
            "atan2       builtin_function_or_method    <built-in function atan2>\n",
            "atanh       builtin_function_or_method    <built-in function atanh>\n",
            "ceil        builtin_function_or_method    <built-in function ceil>\n",
            "comb        builtin_function_or_method    <built-in function comb>\n",
            "copysign    builtin_function_or_method    <built-in function copysign>\n",
            "cos         builtin_function_or_method    <built-in function cos>\n",
            "cosh        builtin_function_or_method    <built-in function cosh>\n",
            "degrees     builtin_function_or_method    <built-in function degrees>\n",
            "dist        builtin_function_or_method    <built-in function dist>\n",
            "e           float                         2.718281828459045\n",
            "erf         builtin_function_or_method    <built-in function erf>\n",
            "erfc        builtin_function_or_method    <built-in function erfc>\n",
            "exp         builtin_function_or_method    <built-in function exp>\n",
            "expm1       builtin_function_or_method    <built-in function expm1>\n",
            "fabs        builtin_function_or_method    <built-in function fabs>\n",
            "factorial   builtin_function_or_method    <built-in function factorial>\n",
            "floor       builtin_function_or_method    <built-in function floor>\n",
            "fmod        builtin_function_or_method    <built-in function fmod>\n",
            "frexp       builtin_function_or_method    <built-in function frexp>\n",
            "fsum        builtin_function_or_method    <built-in function fsum>\n",
            "gamma       builtin_function_or_method    <built-in function gamma>\n",
            "gcd         builtin_function_or_method    <built-in function gcd>\n",
            "hypot       builtin_function_or_method    <built-in function hypot>\n",
            "inf         float                         inf\n",
            "isclose     builtin_function_or_method    <built-in function isclose>\n",
            "isfinite    builtin_function_or_method    <built-in function isfinite>\n",
            "isinf       builtin_function_or_method    <built-in function isinf>\n",
            "isnan       builtin_function_or_method    <built-in function isnan>\n",
            "isqrt       builtin_function_or_method    <built-in function isqrt>\n",
            "lcm         builtin_function_or_method    <built-in function lcm>\n",
            "ldexp       builtin_function_or_method    <built-in function ldexp>\n",
            "lgamma      builtin_function_or_method    <built-in function lgamma>\n",
            "log         builtin_function_or_method    <built-in function log>\n",
            "log10       builtin_function_or_method    <built-in function log10>\n",
            "log1p       builtin_function_or_method    <built-in function log1p>\n",
            "log2        builtin_function_or_method    <built-in function log2>\n",
            "math        module                        <module 'math' (built-in)>\n",
            "modf        builtin_function_or_method    <built-in function modf>\n",
            "mt          module                        <module 'math' (built-in)>\n",
            "my_cat      Cat                           This cat was printed, meow 🐾\n",
            "nan         float                         nan\n",
            "nextafter   builtin_function_or_method    <built-in function nextafter>\n",
            "perm        builtin_function_or_method    <built-in function perm>\n",
            "pi          float                         3.141592653589793\n",
            "pow         builtin_function_or_method    <built-in function pow>\n",
            "prod        builtin_function_or_method    <built-in function prod>\n",
            "radians     builtin_function_or_method    <built-in function radians>\n",
            "remainder   builtin_function_or_method    <built-in function remainder>\n",
            "sin         builtin_function_or_method    <built-in function sin>\n",
            "sinh        builtin_function_or_method    <built-in function sinh>\n",
            "sqrt        builtin_function_or_method    <built-in function sqrt>\n",
            "tan         builtin_function_or_method    <built-in function tan>\n",
            "tanh        builtin_function_or_method    <built-in function tanh>\n",
            "tau         float                         6.283185307179586\n",
            "trunc       builtin_function_or_method    <built-in function trunc>\n",
            "ulp         builtin_function_or_method    <built-in function ulp>\n"
          ]
        }
      ],
      "source": [
        "%whos"
      ]
    },
    {
      "cell_type": "code",
      "execution_count": 14,
      "metadata": {
        "id": "qWs6Sx62XI-P"
      },
      "outputs": [],
      "source": []
    },
    {
      "cell_type": "markdown",
      "metadata": {
        "id": "pmaQMv8gSZG3"
      },
      "source": [
        "## NumPy: Numerical Python\n",
        "\n",
        "<img src=\"https://numpy.org/doc/stable/_static/numpylogo.svg\" alt=\"logo\" width=\"400\">\n",
        "\n",
        "[documentation](https://numpy.org/)"
      ]
    },
    {
      "cell_type": "markdown",
      "metadata": {
        "id": "FUCSn4iASZG4"
      },
      "source": [
        "= library created to work with *numerical data*:\n",
        "\n",
        " - effectively stores and operates with high-dimensional data structures (**arrays** - like vectors and matrices)\n",
        " - implements mathematical operations on those arrays"
      ]
    },
    {
      "cell_type": "code",
      "execution_count": 15,
      "metadata": {
        "id": "hJ3VcPviSZG5"
      },
      "outputs": [],
      "source": [
        "# import\n",
        "import numpy as np"
      ]
    },
    {
      "cell_type": "markdown",
      "metadata": {
        "id": "b9dUHNKeZvMq"
      },
      "source": [
        "### Array - basic type of variable in NumPy\n",
        "\n",
        " - very similar to vector/matrix in algebra\n",
        " - type of variable: `ndarray`"
      ]
    },
    {
      "cell_type": "markdown",
      "metadata": {
        "id": "zNJgRureaqrC"
      },
      "source": [
        "| Feature                          | Python Lists (`list`)                                 | NumPy Arrays (`ndarray`)                                 |\n",
        "|----------------------------------|-----------------------------------------------|----------------------------------------------|\n",
        "| Data Types                       | Can contain elements of different data types  | Homogeneous data type ⚠️                       |\n",
        "| Performance                      | Slower for large datasets                     | Faster for large datasets                    |\n",
        "| Mathematical Operations          | Limited functionality for mathematical ops    | Rich set of mathematical operations         |\n",
        "| Indexing and Slicing             | Basic indexing and slicing                    | Advanced indexing and slicing                |\n",
        "| Iteration                        | Basic iteration                                | Vectorized operations                        |\n",
        "| Memory Efficiency                | Less memory efficient                         | More memory efficient                        |\n"
      ]
    },
    {
      "cell_type": "markdown",
      "metadata": {
        "id": "Soes9EdrZ64m"
      },
      "source": [
        "Example:\n",
        "\n",
        "$$ \\vec{v} = \\begin{pmatrix} 1 \\\\ 2 \\\\ 3 \\\\ 4 \\end{pmatrix} $$"
      ]
    },
    {
      "cell_type": "code",
      "execution_count": 16,
      "metadata": {
        "colab": {
          "base_uri": "https://localhost:8080/"
        },
        "id": "JEnGGgOtSZG5",
        "outputId": "1a6874f9-9218-497e-bc31-0f8a76ec27bb"
      },
      "outputs": [
        {
          "output_type": "execute_result",
          "data": {
            "text/plain": [
              "array([1, 2, 3, 4])"
            ]
          },
          "metadata": {},
          "execution_count": 16
        }
      ],
      "source": [
        "v = np.array([1,2,3,4])\n",
        "\n",
        "v"
      ]
    },
    {
      "cell_type": "code",
      "execution_count": 17,
      "metadata": {
        "colab": {
          "base_uri": "https://localhost:8080/"
        },
        "id": "hvByxQluf4rk",
        "outputId": "6ced0124-4c32-4bbe-e6ff-b7ee2d3a7dd0"
      },
      "outputs": [
        {
          "output_type": "stream",
          "name": "stdout",
          "text": [
            "[1 2 3 4]\n"
          ]
        }
      ],
      "source": [
        "print(v)"
      ]
    },
    {
      "cell_type": "code",
      "execution_count": 18,
      "metadata": {
        "colab": {
          "base_uri": "https://localhost:8080/"
        },
        "id": "JqKLXPDoj8pr",
        "outputId": "de673fec-f0ed-4326-d4d4-f51eed6674d2"
      },
      "outputs": [
        {
          "output_type": "execute_result",
          "data": {
            "text/plain": [
              "numpy.ndarray"
            ]
          },
          "metadata": {},
          "execution_count": 18
        }
      ],
      "source": [
        "type(v)"
      ]
    },
    {
      "cell_type": "markdown",
      "metadata": {
        "id": "VTXKrVyjbAtR"
      },
      "source": [
        "NumPy's array can be created:\n",
        " - from Python container - like `list` or `tuple`\n",
        " - via some NumPy function (for example `np.zeros`)\n",
        " - by loading from file\n",
        "\n"
      ]
    },
    {
      "cell_type": "code",
      "execution_count": 19,
      "metadata": {
        "colab": {
          "base_uri": "https://localhost:8080/"
        },
        "id": "InFXvhBzbn-_",
        "outputId": "0161e6d5-80b5-448e-b78a-d5ac31e376d3"
      },
      "outputs": [
        {
          "output_type": "stream",
          "name": "stdout",
          "text": [
            "[1 2 3]\n",
            "[1, 2, 3]\n"
          ]
        }
      ],
      "source": [
        "mylist = [1,2,3]   # Python's \"native\" list\n",
        "arr_from_list = np.array(mylist)\n",
        "\n",
        "print(arr_from_list)\n",
        "print(mylist)"
      ]
    },
    {
      "cell_type": "markdown",
      "metadata": {
        "id": "2xhhmfT6cCgA"
      },
      "source": [
        "🗒️ Note: `list` is printed with commas while `np.array` is printed without them."
      ]
    },
    {
      "cell_type": "markdown",
      "metadata": {
        "id": "pcqMsGJmgI9j"
      },
      "source": [
        "2-D array (matrix):\n",
        "\n",
        "$$\n",
        "\\mathbb{A} = \\begin{pmatrix}\n",
        "1 & 2 & 3 \\\\\n",
        "4 & 5 & 6 \\\\\n",
        "7 & 8 & 9 \\\\\n",
        "\\end{pmatrix} $$"
      ]
    },
    {
      "cell_type": "code",
      "execution_count": 20,
      "metadata": {
        "colab": {
          "base_uri": "https://localhost:8080/"
        },
        "id": "0ybTkYdEgm1p",
        "outputId": "41342d35-d8cf-4758-f2e0-ad72b8b8e2a2"
      },
      "outputs": [
        {
          "output_type": "execute_result",
          "data": {
            "text/plain": [
              "array([[1, 2, 3],\n",
              "       [4, 5, 6],\n",
              "       [7, 8, 9]])"
            ]
          },
          "metadata": {},
          "execution_count": 20
        }
      ],
      "source": [
        "A = np.array([[1,2,3], [4,5,6], [7,8,9]])\n",
        "\n",
        "A"
      ]
    },
    {
      "cell_type": "markdown",
      "metadata": {
        "id": "hLdhkFBG6ELr"
      },
      "source": [
        "Matrix transposition:"
      ]
    },
    {
      "cell_type": "code",
      "execution_count": 21,
      "metadata": {
        "colab": {
          "base_uri": "https://localhost:8080/"
        },
        "id": "IM8YdUUDg1yd",
        "outputId": "02b18b69-2a07-49ac-dda1-eb56d35ddec8"
      },
      "outputs": [
        {
          "output_type": "execute_result",
          "data": {
            "text/plain": [
              "array([[1, 4, 7],\n",
              "       [2, 5, 8],\n",
              "       [3, 6, 9]])"
            ]
          },
          "metadata": {},
          "execution_count": 21
        }
      ],
      "source": [
        "A.T"
      ]
    },
    {
      "cell_type": "markdown",
      "metadata": {
        "id": "zLaK8L4LgGsw"
      },
      "source": [
        "Shape of array, size of array\n",
        "\n",
        " - shape ... number of elements in each dimension\n",
        " - size ... total number of elements in the array"
      ]
    },
    {
      "cell_type": "code",
      "execution_count": 22,
      "metadata": {
        "colab": {
          "base_uri": "https://localhost:8080/"
        },
        "id": "d7dqngY9b07e",
        "outputId": "e9a66908-04f6-4ac2-c129-ca1bdcb0eff9"
      },
      "outputs": [
        {
          "output_type": "execute_result",
          "data": {
            "text/plain": [
              "(4,)"
            ]
          },
          "metadata": {},
          "execution_count": 22
        }
      ],
      "source": [
        "v.shape"
      ]
    },
    {
      "cell_type": "code",
      "execution_count": 23,
      "metadata": {
        "colab": {
          "base_uri": "https://localhost:8080/"
        },
        "id": "TCiFtYPJhIlf",
        "outputId": "1324f0d6-9c76-4fff-aa8d-cd139c81559c"
      },
      "outputs": [
        {
          "output_type": "execute_result",
          "data": {
            "text/plain": [
              "(3, 3)"
            ]
          },
          "metadata": {},
          "execution_count": 23
        }
      ],
      "source": [
        "A.shape"
      ]
    },
    {
      "cell_type": "code",
      "execution_count": 24,
      "metadata": {
        "colab": {
          "base_uri": "https://localhost:8080/"
        },
        "id": "_Pa__HCWYSXs",
        "outputId": "df2d0743-f1f1-45e0-96b5-f97c32000e65"
      },
      "outputs": [
        {
          "output_type": "execute_result",
          "data": {
            "text/plain": [
              "4"
            ]
          },
          "metadata": {},
          "execution_count": 24
        }
      ],
      "source": [
        "v.size"
      ]
    },
    {
      "cell_type": "code",
      "execution_count": 25,
      "metadata": {
        "colab": {
          "base_uri": "https://localhost:8080/"
        },
        "id": "abR5sml9YSO1",
        "outputId": "dcfedcc0-8d5e-48b3-daed-8eb47be68020"
      },
      "outputs": [
        {
          "output_type": "execute_result",
          "data": {
            "text/plain": [
              "9"
            ]
          },
          "metadata": {},
          "execution_count": 25
        }
      ],
      "source": [
        "A.size"
      ]
    },
    {
      "cell_type": "markdown",
      "metadata": {
        "id": "Z8fqxu27h3Ns"
      },
      "source": [
        "`ndarray` must have all its elements of the same type. Type can be checked via `dtype` method:"
      ]
    },
    {
      "cell_type": "code",
      "execution_count": 26,
      "metadata": {
        "colab": {
          "base_uri": "https://localhost:8080/"
        },
        "id": "FzbC18MyYSFT",
        "outputId": "7a534064-232e-4704-b00f-1d41e6a736fc"
      },
      "outputs": [
        {
          "output_type": "execute_result",
          "data": {
            "text/plain": [
              "dtype('int64')"
            ]
          },
          "metadata": {},
          "execution_count": 26
        }
      ],
      "source": [
        "A.dtype"
      ]
    },
    {
      "cell_type": "markdown",
      "metadata": {
        "id": "A3Ib2EsvjEkX"
      },
      "source": [
        "Type of elements of a `ndarray` can be set when creating the object:"
      ]
    },
    {
      "cell_type": "code",
      "execution_count": 27,
      "metadata": {
        "colab": {
          "base_uri": "https://localhost:8080/"
        },
        "id": "X7OkCgCOYR9Y",
        "outputId": "43b99f09-6b4f-4cec-e575-7bbe6a89b571"
      },
      "outputs": [
        {
          "output_type": "execute_result",
          "data": {
            "text/plain": [
              "array([[  1,   2],\n",
              "       [101, 102]])"
            ]
          },
          "metadata": {},
          "execution_count": 27
        }
      ],
      "source": [
        "B = np.array([[1, 2], [101, 102]], dtype='int')\n",
        "\n",
        "B"
      ]
    },
    {
      "cell_type": "markdown",
      "metadata": {
        "id": "9XwmRW2zjcxo"
      },
      "source": [
        "Possible options are: `int`, `float`, `complex`, `bool`, `object`."
      ]
    },
    {
      "cell_type": "markdown",
      "metadata": {
        "id": "LWub6YSAiRiQ"
      },
      "source": [
        "### Array-generating functions\n",
        " = functions that will automatically create an array, so we don't have to specify its elements manually"
      ]
    },
    {
      "cell_type": "code",
      "execution_count": 28,
      "metadata": {
        "colab": {
          "base_uri": "https://localhost:8080/"
        },
        "id": "JskbitxrkOUZ",
        "outputId": "8b034e2e-bf51-47c7-f2a4-469fd7cb44c6"
      },
      "outputs": [
        {
          "output_type": "execute_result",
          "data": {
            "text/plain": [
              "array([0, 1, 2, 3, 4, 5, 6, 7, 8, 9])"
            ]
          },
          "metadata": {},
          "execution_count": 28
        }
      ],
      "source": [
        "x = np.arange(start=0, stop=10, step=1)\n",
        "\n",
        "x"
      ]
    },
    {
      "cell_type": "code",
      "execution_count": 29,
      "metadata": {
        "colab": {
          "base_uri": "https://localhost:8080/"
        },
        "id": "zwP3eOpvkXNc",
        "outputId": "36d25d8a-d37f-4f82-d970-9c848a03551a"
      },
      "outputs": [
        {
          "output_type": "execute_result",
          "data": {
            "text/plain": [
              "array([-1.00000000e+00, -9.00000000e-01, -8.00000000e-01, -7.00000000e-01,\n",
              "       -6.00000000e-01, -5.00000000e-01, -4.00000000e-01, -3.00000000e-01,\n",
              "       -2.00000000e-01, -1.00000000e-01, -2.22044605e-16,  1.00000000e-01,\n",
              "        2.00000000e-01,  3.00000000e-01,  4.00000000e-01,  5.00000000e-01,\n",
              "        6.00000000e-01,  7.00000000e-01,  8.00000000e-01,  9.00000000e-01])"
            ]
          },
          "metadata": {},
          "execution_count": 29
        }
      ],
      "source": [
        "x = np.arange(start=-1, stop=1, step=0.1)\n",
        "\n",
        "x"
      ]
    },
    {
      "cell_type": "code",
      "execution_count": 30,
      "metadata": {
        "colab": {
          "base_uri": "https://localhost:8080/"
        },
        "id": "up1uai98YRz_",
        "outputId": "6f1088f6-03b9-4f38-f4ca-e9916cfdbdb7"
      },
      "outputs": [
        {
          "output_type": "execute_result",
          "data": {
            "text/plain": [
              "array([[0., 0., 0.],\n",
              "       [0., 0., 0.]])"
            ]
          },
          "metadata": {},
          "execution_count": 30
        }
      ],
      "source": [
        "zero_mtx = np.zeros([2,3])\n",
        "\n",
        "zero_mtx"
      ]
    },
    {
      "cell_type": "code",
      "execution_count": 31,
      "metadata": {
        "colab": {
          "base_uri": "https://localhost:8080/"
        },
        "id": "outSd_rTYRsT",
        "outputId": "b46fd371-12ba-4019-b55a-f87957dcb3a9"
      },
      "outputs": [
        {
          "output_type": "execute_result",
          "data": {
            "text/plain": [
              "array([[1., 1.],\n",
              "       [1., 1.],\n",
              "       [1., 1.]])"
            ]
          },
          "metadata": {},
          "execution_count": 31
        }
      ],
      "source": [
        "ones_mtx = np.ones([3,2])\n",
        "\n",
        "ones_mtx"
      ]
    },
    {
      "cell_type": "code",
      "execution_count": 32,
      "metadata": {
        "colab": {
          "base_uri": "https://localhost:8080/"
        },
        "id": "65-BqTSQYRlD",
        "outputId": "92b5e528-c4cd-4ea8-9d2c-6edb91e84085"
      },
      "outputs": [
        {
          "output_type": "execute_result",
          "data": {
            "text/plain": [
              "array([[1, 0, 0, 0, 0],\n",
              "       [0, 1, 0, 0, 0],\n",
              "       [0, 0, 1, 0, 0],\n",
              "       [0, 0, 0, 1, 0],\n",
              "       [0, 0, 0, 0, 1]])"
            ]
          },
          "metadata": {},
          "execution_count": 32
        }
      ],
      "source": [
        "eye_mtx = np.eye(5, dtype = int)\n",
        "\n",
        "eye_mtx"
      ]
    },
    {
      "cell_type": "code",
      "execution_count": 33,
      "metadata": {
        "colab": {
          "base_uri": "https://localhost:8080/"
        },
        "id": "D_gApQQWYRea",
        "outputId": "88b4ca49-94d3-4b07-ef58-b0594220ca4c"
      },
      "outputs": [
        {
          "output_type": "execute_result",
          "data": {
            "text/plain": [
              "dtype('int64')"
            ]
          },
          "metadata": {},
          "execution_count": 33
        }
      ],
      "source": [
        "eye_mtx.dtype"
      ]
    },
    {
      "cell_type": "code",
      "execution_count": 34,
      "metadata": {
        "colab": {
          "base_uri": "https://localhost:8080/"
        },
        "id": "d3oOYzIWYRYG",
        "outputId": "a0da2d49-5955-4bb8-819a-d782c012d7db"
      },
      "outputs": [
        {
          "output_type": "execute_result",
          "data": {
            "text/plain": [
              "array([[0.73983493, 0.59461434, 0.47582717, 0.35996216],\n",
              "       [0.89911596, 0.04914441, 0.92474063, 0.69118869],\n",
              "       [0.69992599, 0.27469835, 0.89315862, 0.43586586]])"
            ]
          },
          "metadata": {},
          "execution_count": 34
        }
      ],
      "source": [
        "# Array of random numbers - each is generated from uniform distribution on (0,1)\n",
        "np.random.rand(3,4)"
      ]
    },
    {
      "cell_type": "code",
      "execution_count": 35,
      "metadata": {
        "colab": {
          "base_uri": "https://localhost:8080/"
        },
        "id": "ICnau1P8YRSF",
        "outputId": "a7143945-a4ba-4769-c434-b280b8c8f58e"
      },
      "outputs": [
        {
          "output_type": "execute_result",
          "data": {
            "text/plain": [
              "array([[-0.67227004,  0.41555384,  0.32553833,  1.00838331],\n",
              "       [-0.36487522,  0.7603918 , -0.21876774,  0.70213938],\n",
              "       [ 0.28934602, -0.71686377,  0.87642095, -1.265856  ]])"
            ]
          },
          "metadata": {},
          "execution_count": 35
        }
      ],
      "source": [
        "# Array of random numbers - each is generated from Gaussian curve on (0,1)\n",
        "np.random.randn(3,4)"
      ]
    },
    {
      "cell_type": "markdown",
      "metadata": {
        "id": "0PodfEo06ELw"
      },
      "source": [
        "Just a visualisation - what's the difference:"
      ]
    },
    {
      "cell_type": "code",
      "execution_count": 36,
      "metadata": {
        "colab": {
          "base_uri": "https://localhost:8080/",
          "height": 347
        },
        "id": "e9wZ6VhTYRLv",
        "outputId": "4fbd4f1d-c250-4bb0-d479-c07b38896317"
      },
      "outputs": [
        {
          "output_type": "display_data",
          "data": {
            "text/plain": [
              "<Figure size 480x360 with 1 Axes>"
            ],
            "image/png": "[encoded data removed]"
          },
          "metadata": {}
        }
      ],
      "source": [
        "import matplotlib.pyplot as plt\n",
        "plt.figure(figsize=(4,3), dpi=120)\n",
        "plt.plot(np.random.randn(5000), 'b.', alpha = 0.3)\n",
        "plt.plot(np.random.rand(5000), 'r.', alpha=0.3)\n",
        "plt.show()"
      ]
    },
    {
      "cell_type": "code",
      "execution_count": 37,
      "metadata": {
        "id": "e5famyFwYRAt",
        "colab": {
          "base_uri": "https://localhost:8080/",
          "height": 347
        },
        "outputId": "e6b09c32-8e33-49ce-f949-b78c824fecd1"
      },
      "outputs": [
        {
          "output_type": "display_data",
          "data": {
            "text/plain": [
              "<Figure size 480x360 with 1 Axes>"
            ],
            "image/png": "[encoded data removed]"
          },
          "metadata": {}
        }
      ],
      "source": [
        "import matplotlib.pyplot as plt\n",
        "plt.figure(figsize=(4, 3), dpi=120)\n",
        "plt.hist(np.random.rand(5000), bins=np.linspace(-4, 4, 50), alpha=0.7)  # Set alpha to 0.5 for transparency\n",
        "plt.hist(np.random.randn(5000), bins=np.linspace(-4, 4, 50), alpha=0.7)  # Set alpha to 0.5 for transparency\n",
        "plt.show()\n"
      ]
    },
    {
      "cell_type": "markdown",
      "metadata": {
        "id": "tb5Ypuc06ELx"
      },
      "source": [
        "(We will learn plotting figures next time.)"
      ]
    },
    {
      "cell_type": "code",
      "execution_count": 38,
      "metadata": {
        "colab": {
          "base_uri": "https://localhost:8080/"
        },
        "id": "nO2gGoin6ELx",
        "outputId": "8077df63-5646-470a-ffc0-58bf038f7346"
      },
      "outputs": [
        {
          "output_type": "execute_result",
          "data": {
            "text/plain": [
              "array([[5, 9, 6],\n",
              "       [0, 2, 9],\n",
              "       [6, 2, 2]])"
            ]
          },
          "metadata": {},
          "execution_count": 38
        }
      ],
      "source": [
        "# reminder: array with random integers\n",
        "np.random.randint(0, 10, size=(3, 3))"
      ]
    },
    {
      "cell_type": "markdown",
      "metadata": {
        "id": "zoymNVMVqXYG"
      },
      "source": [
        "### Array arithmetics"
      ]
    },
    {
      "cell_type": "markdown",
      "metadata": {
        "id": "kT5oE36A6ELy"
      },
      "source": [
        "Let's have these two matrices:\n",
        "\n",
        "$$ \\mathbb{A} =\n",
        "\\begin{pmatrix}\n",
        "1 & 2 \\\\\n",
        "3 & 4 \\\\\n",
        "\\end{pmatrix} ,\n",
        "\\quad \\quad\n",
        "\\mathbb{B} =\n",
        "\\begin{pmatrix}\n",
        "5 & 6 \\\\\n",
        "7 & 8 \\\\\n",
        "\\end{pmatrix}\n",
        "$$\n",
        "\n"
      ]
    },
    {
      "cell_type": "code",
      "execution_count": 39,
      "metadata": {
        "id": "BGygHhbh6ELy"
      },
      "outputs": [],
      "source": [
        "A = np.array([[1, 2],[3, 4]])\n",
        "B = np.array([[5, 6],[7, 8]])"
      ]
    },
    {
      "cell_type": "code",
      "execution_count": 40,
      "metadata": {
        "colab": {
          "base_uri": "https://localhost:8080/"
        },
        "id": "4z5KcnHB6ELy",
        "outputId": "bba3b9bc-97ab-4412-df3e-c58ab19199df"
      },
      "outputs": [
        {
          "output_type": "execute_result",
          "data": {
            "text/plain": [
              "array([[ 6,  8],\n",
              "       [10, 12]])"
            ]
          },
          "metadata": {},
          "execution_count": 40
        }
      ],
      "source": [
        "# sum of those matrices:\n",
        "A+B"
      ]
    },
    {
      "cell_type": "code",
      "execution_count": 41,
      "metadata": {
        "colab": {
          "base_uri": "https://localhost:8080/"
        },
        "id": "oRof5GHA6ELy",
        "outputId": "65b1c5d9-7fa3-4e5d-f141-49ccd7f139b0"
      },
      "outputs": [
        {
          "output_type": "execute_result",
          "data": {
            "text/plain": [
              "array([[-4, -4],\n",
              "       [-4, -4]])"
            ]
          },
          "metadata": {},
          "execution_count": 41
        }
      ],
      "source": [
        "A-B"
      ]
    },
    {
      "cell_type": "code",
      "execution_count": 42,
      "metadata": {
        "colab": {
          "base_uri": "https://localhost:8080/"
        },
        "id": "nsL17bOB6ELy",
        "outputId": "d05648f6-c064-4d4e-b78e-87ee6de80965"
      },
      "outputs": [
        {
          "output_type": "execute_result",
          "data": {
            "text/plain": [
              "array([[19, 22],\n",
              "       [43, 50]])"
            ]
          },
          "metadata": {},
          "execution_count": 42
        }
      ],
      "source": [
        "# dot product (cz. maticové násobení)\n",
        "np.dot(A, B)"
      ]
    },
    {
      "cell_type": "code",
      "execution_count": 43,
      "metadata": {
        "colab": {
          "base_uri": "https://localhost:8080/"
        },
        "id": "297Qz0HW6ELy",
        "outputId": "e59a9b6d-7a3b-4bf1-9189-5fc6ec0e75d7"
      },
      "outputs": [
        {
          "output_type": "execute_result",
          "data": {
            "text/plain": [
              "array([[19, 22],\n",
              "       [43, 50]])"
            ]
          },
          "metadata": {},
          "execution_count": 43
        }
      ],
      "source": [
        "# or equivalently:\n",
        "A @ B"
      ]
    },
    {
      "cell_type": "markdown",
      "metadata": {
        "id": "lXF3TEzu6ELy"
      },
      "source": [
        "You can test it by hand 😜:\n",
        "\n",
        "$$\n",
        "\\mathbb{A} \\cdot \\mathbb{B} =\n",
        "\\begin{pmatrix}\n",
        "1 & 2 \\\\\n",
        "3 & 4 \\\\\n",
        "\\end{pmatrix}\n",
        "\\cdot\n",
        "\\begin{pmatrix}\n",
        "5 & 6 \\\\\n",
        "7 & 8 \\\\\n",
        "\\end{pmatrix}\n",
        "=\n",
        "\\begin{pmatrix}\n",
        "19 & 22 \\\\\n",
        "43 & 50 \\\\\n",
        "\\end{pmatrix}\n",
        "$$"
      ]
    },
    {
      "cell_type": "code",
      "execution_count": 44,
      "metadata": {
        "colab": {
          "base_uri": "https://localhost:8080/"
        },
        "id": "qHPnPqiV6ELz",
        "outputId": "d76bc503-1652-432e-e970-fb2e20c6cf52"
      },
      "outputs": [
        {
          "output_type": "execute_result",
          "data": {
            "text/plain": [
              "array([[ 5, 12],\n",
              "       [21, 32]])"
            ]
          },
          "metadata": {},
          "execution_count": 44
        }
      ],
      "source": [
        "# element-wise product (cz. násobení po prvcích)\n",
        "np.multiply(A, B)"
      ]
    },
    {
      "cell_type": "code",
      "execution_count": 45,
      "metadata": {
        "colab": {
          "base_uri": "https://localhost:8080/"
        },
        "id": "Howg8wT66ELz",
        "outputId": "21e61f4d-bb6e-44bf-ecf3-5c8b4e4df8a4"
      },
      "outputs": [
        {
          "output_type": "execute_result",
          "data": {
            "text/plain": [
              "array([[ 5, 12],\n",
              "       [21, 32]])"
            ]
          },
          "metadata": {},
          "execution_count": 45
        }
      ],
      "source": [
        "# or equivalently:\n",
        "A * B"
      ]
    },
    {
      "cell_type": "markdown",
      "metadata": {
        "id": "lRFbrBSUqayn"
      },
      "source": [
        "### Intermezzo: speed comparison (proof that it makes sense to use NumPy)\n",
        "\n",
        "NumPy is much better optimized (in sense of speed of computation). Here I demonstrate it:\n",
        "\n",
        " - below is function `my_dot_product` which multiplies two `list`s (not `ndarray`s)\n",
        " - then it's called with two anonymous lists with randomly generated numbers\n",
        "\n",
        "Time measurement is performed in jupyter notebook via \"magic command\" `%timeit`."
      ]
    },
    {
      "cell_type": "code",
      "execution_count": 46,
      "metadata": {
        "id": "qxO5rN9hYQwL"
      },
      "outputs": [],
      "source": [
        "def my_dot_product(list1, list2):\n",
        "    result = 0\n",
        "    for i in range(len(list1)):\n",
        "        result = result + list1[i] * list2[i]\n",
        "\n",
        "    return result"
      ]
    },
    {
      "cell_type": "markdown",
      "metadata": {
        "id": "NR4uvKm96ELz"
      },
      "source": [
        "1. let's measure how quick this function computes:"
      ]
    },
    {
      "cell_type": "code",
      "execution_count": 47,
      "metadata": {
        "colab": {
          "base_uri": "https://localhost:8080/"
        },
        "id": "ch9yU9Pg6EL0",
        "outputId": "eb306396-5e70-4720-8832-0b1b1b5fcbff"
      },
      "outputs": [
        {
          "output_type": "stream",
          "name": "stdout",
          "text": [
            "19.8 ms ± 4.39 ms per loop (mean ± std. dev. of 7 runs, 100 loops each)\n"
          ]
        }
      ],
      "source": [
        "%timeit my_dot_product(list(np.random.randint(0, 10, size=(10000,1))), list(np.random.randint(0, 10, size=(10000,1))))"
      ]
    },
    {
      "cell_type": "markdown",
      "metadata": {
        "id": "o2emg1Oj6EL0"
      },
      "source": [
        "2. now let's perform the same multiplication via native functionality in NumPy:"
      ]
    },
    {
      "cell_type": "code",
      "execution_count": 48,
      "metadata": {
        "colab": {
          "base_uri": "https://localhost:8080/"
        },
        "id": "UMyYD3nv6EL0",
        "outputId": "ff6ef955-25a1-4a05-e562-47f84fcb347d"
      },
      "outputs": [
        {
          "output_type": "stream",
          "name": "stdout",
          "text": [
            "364 µs ± 4.46 µs per loop (mean ± std. dev. of 7 runs, 1000 loops each)\n"
          ]
        }
      ],
      "source": [
        "%timeit np.random.randint(0, 10, size=(10000,1)).T @ np.random.randint(0, 10, size=(10000,1))"
      ]
    },
    {
      "cell_type": "markdown",
      "metadata": {
        "id": "7s_T4lrR6EL0"
      },
      "source": [
        "The difference is obvious 😉"
      ]
    },
    {
      "cell_type": "code",
      "execution_count": 50,
      "metadata": {
        "colab": {
          "base_uri": "https://localhost:8080/"
        },
        "id": "7Gvw1AUb6EL0",
        "outputId": "87fb708b-eb1f-41c0-b536-c3e5a4260c1f"
      },
      "outputs": [
        {
          "output_type": "execute_result",
          "data": {
            "text/plain": [
              "55.0"
            ]
          },
          "metadata": {},
          "execution_count": 50
        }
      ],
      "source": [
        "19800 / 360"
      ]
    },
    {
      "cell_type": "code",
      "execution_count": 50,
      "metadata": {
        "id": "KGJzCp_u6EL1"
      },
      "outputs": [],
      "source": []
    },
    {
      "cell_type": "markdown",
      "metadata": {
        "id": "KF_29FbI6EL1"
      },
      "source": [
        "### Working with array\n",
        "~ quite similar to lists"
      ]
    },
    {
      "cell_type": "code",
      "execution_count": 51,
      "metadata": {
        "colab": {
          "base_uri": "https://localhost:8080/"
        },
        "id": "9_KV3kdP6EL1",
        "outputId": "81fb78e8-6155-4be6-8bef-159c2a33b556"
      },
      "outputs": [
        {
          "output_type": "execute_result",
          "data": {
            "text/plain": [
              "array([[1, 2],\n",
              "       [3, 4]])"
            ]
          },
          "metadata": {},
          "execution_count": 51
        }
      ],
      "source": [
        "matrix = np.array([[1, 2], [3, 4]], dtype=int)\n",
        "matrix"
      ]
    },
    {
      "cell_type": "markdown",
      "metadata": {
        "id": "m5OQOThx6EL1"
      },
      "source": [
        "Access to elements:"
      ]
    },
    {
      "cell_type": "code",
      "execution_count": 52,
      "metadata": {
        "colab": {
          "base_uri": "https://localhost:8080/"
        },
        "id": "0-FDkELH6EL1",
        "outputId": "3c3359b2-1cb8-4cd8-9ed6-313d967b8215"
      },
      "outputs": [
        {
          "output_type": "execute_result",
          "data": {
            "text/plain": [
              "4"
            ]
          },
          "metadata": {},
          "execution_count": 52
        }
      ],
      "source": [
        "matrix[1, 1]"
      ]
    },
    {
      "cell_type": "markdown",
      "metadata": {
        "id": "zrWkHStZ6EL2"
      },
      "source": [
        "Rewriting elements:"
      ]
    },
    {
      "cell_type": "code",
      "execution_count": 53,
      "metadata": {
        "colab": {
          "base_uri": "https://localhost:8080/"
        },
        "id": "niRDivEX6EL2",
        "outputId": "b5702903-f22f-4424-a3eb-80c4b4d5a378"
      },
      "outputs": [
        {
          "output_type": "execute_result",
          "data": {
            "text/plain": [
              "array([[  1,   2],\n",
              "       [  3, 100]])"
            ]
          },
          "metadata": {},
          "execution_count": 53
        }
      ],
      "source": [
        "matrix[1, 1] = 100\n",
        "matrix"
      ]
    },
    {
      "cell_type": "markdown",
      "metadata": {
        "id": "Q2u7MOCn6EL2"
      },
      "source": [
        "Rewriting whole column/row:"
      ]
    },
    {
      "cell_type": "code",
      "execution_count": 54,
      "metadata": {
        "colab": {
          "base_uri": "https://localhost:8080/"
        },
        "id": "AdrogjDu6EL3",
        "outputId": "adff6b57-1836-484a-e95d-189c5c92f603"
      },
      "outputs": [
        {
          "output_type": "execute_result",
          "data": {
            "text/plain": [
              "array([[ 1,  2],\n",
              "       [-1, -1]])"
            ]
          },
          "metadata": {},
          "execution_count": 54
        }
      ],
      "source": [
        "matrix[1,:] = -1\n",
        "matrix"
      ]
    },
    {
      "cell_type": "markdown",
      "metadata": {
        "id": "gg_7WUbx6EL3"
      },
      "source": [
        "From n-D array to 1-D array (\"flattening matrices into long vectors\"):"
      ]
    },
    {
      "cell_type": "code",
      "execution_count": 55,
      "metadata": {
        "colab": {
          "base_uri": "https://localhost:8080/"
        },
        "id": "5XgWDydM6EL3",
        "outputId": "7378e9f6-7cde-4f5a-98fd-79f0cd0e6eee"
      },
      "outputs": [
        {
          "output_type": "execute_result",
          "data": {
            "text/plain": [
              "array([ 1,  2, -1, -1])"
            ]
          },
          "metadata": {},
          "execution_count": 55
        }
      ],
      "source": [
        "matrix.flatten()"
      ]
    },
    {
      "cell_type": "markdown",
      "metadata": {
        "id": "mrIlpYSI6EL3"
      },
      "source": [
        "Slicing: allows you to access a portion of an array\n",
        "> `array[start:end:step]`"
      ]
    },
    {
      "cell_type": "code",
      "execution_count": 57,
      "metadata": {
        "colab": {
          "base_uri": "https://localhost:8080/"
        },
        "id": "Q-DOoadk6EL3",
        "outputId": "61b837d4-8ff7-46e8-e18e-f8cc56b56471"
      },
      "outputs": [
        {
          "output_type": "execute_result",
          "data": {
            "text/plain": [
              "array([2, 3, 4])"
            ]
          },
          "metadata": {},
          "execution_count": 57
        }
      ],
      "source": [
        "arr = np.array([1, 2, 3, 4, 5])\n",
        "arr[1:4]"
      ]
    },
    {
      "cell_type": "code",
      "execution_count": 58,
      "metadata": {
        "colab": {
          "base_uri": "https://localhost:8080/"
        },
        "id": "Bwr8RdM36EL4",
        "outputId": "627672ac-b969-4c81-f66c-365e8f4ba6d0"
      },
      "outputs": [
        {
          "output_type": "execute_result",
          "data": {
            "text/plain": [
              "array([[1, 2],\n",
              "       [3, 4],\n",
              "       [5, 6]])"
            ]
          },
          "metadata": {},
          "execution_count": 58
        }
      ],
      "source": [
        "arr = np.array([[1, 2, 3], [4, 5, 6]])\n",
        "reshaped_arr = np.reshape(arr, (3, 2))\n",
        "reshaped_arr"
      ]
    },
    {
      "cell_type": "markdown",
      "metadata": {
        "id": "bGAQz6cn6EL4"
      },
      "source": [
        "Concatenation of `ndarray`s:"
      ]
    },
    {
      "cell_type": "code",
      "execution_count": 59,
      "metadata": {
        "colab": {
          "base_uri": "https://localhost:8080/"
        },
        "id": "rE8W0Mk16EL5",
        "outputId": "1195b9bf-3f35-4582-caf8-a5c014f3dc99"
      },
      "outputs": [
        {
          "output_type": "execute_result",
          "data": {
            "text/plain": [
              "array([[1, 2],\n",
              "       [3, 4],\n",
              "       [5, 6],\n",
              "       [7, 8]])"
            ]
          },
          "metadata": {},
          "execution_count": 59
        }
      ],
      "source": [
        "C = np.concatenate([A, B], axis=0)\n",
        "C"
      ]
    },
    {
      "cell_type": "code",
      "execution_count": 60,
      "metadata": {
        "colab": {
          "base_uri": "https://localhost:8080/"
        },
        "id": "4NxhzQVi6EL5",
        "outputId": "09321daa-7090-4875-88d4-8fe78023504a"
      },
      "outputs": [
        {
          "output_type": "execute_result",
          "data": {
            "text/plain": [
              "array([[1, 2, 5, 6],\n",
              "       [3, 4, 7, 8]])"
            ]
          },
          "metadata": {},
          "execution_count": 60
        }
      ],
      "source": [
        "D = np.concatenate([A, B], axis=1)\n",
        "D"
      ]
    },
    {
      "cell_type": "markdown",
      "metadata": {
        "id": "Q8vemh2x6EL5"
      },
      "source": [
        "### Mathematical functions\n",
        "\n",
        "NumPy provides wide range of mathematical functions which can be applied on `int` or `float` and also on `ndarray`. They act on `ndarray` *element-wise*.\n",
        "\n",
        "*Examples:*"
      ]
    },
    {
      "cell_type": "markdown",
      "metadata": {
        "id": "DabrJ51A6EL6"
      },
      "source": [
        "#### Trigonometric functions:"
      ]
    },
    {
      "cell_type": "code",
      "execution_count": 61,
      "metadata": {
        "colab": {
          "base_uri": "https://localhost:8080/"
        },
        "id": "UA7BT-Q36EL6",
        "outputId": "49e1dbe1-ad59-40c9-d94a-3539c5addee2"
      },
      "outputs": [
        {
          "output_type": "stream",
          "name": "stdout",
          "text": [
            "arr =  [0.         6.28318531 3.14159265]\n",
            "Sine: [ 0.0000000e+00 -2.4492936e-16  1.2246468e-16]\n",
            "Cosine: [ 1.  1. -1.]\n",
            "Tangent: [ 0.0000000e+00 -2.4492936e-16 -1.2246468e-16]\n"
          ]
        }
      ],
      "source": [
        "arr = np.array([0, np.pi*2, np.pi])\n",
        "print(\"arr = \", arr)\n",
        "\n",
        "# Sine function\n",
        "sine_values = np.sin(arr)\n",
        "print(\"Sine:\", sine_values)\n",
        "\n",
        "# Cosine function\n",
        "cosine_values = np.cos(arr)\n",
        "print(\"Cosine:\", cosine_values)\n",
        "\n",
        "# Tangent function\n",
        "tangent_values = np.tan(arr)\n",
        "print(\"Tangent:\", tangent_values)"
      ]
    },
    {
      "cell_type": "markdown",
      "metadata": {
        "id": "Hi4kWugn6EL6"
      },
      "source": [
        "#### Exponential and different logarithms:"
      ]
    },
    {
      "cell_type": "code",
      "execution_count": 62,
      "metadata": {
        "colab": {
          "base_uri": "https://localhost:8080/"
        },
        "id": "Uq4pSM9W6EL6",
        "outputId": "48cc2dd5-55bf-443c-a402-3e8e98a4215f"
      },
      "outputs": [
        {
          "output_type": "stream",
          "name": "stdout",
          "text": [
            "Exponential: [ 2.71828183  7.3890561  20.08553692]\n",
            "Natural Logarithm: [0.         0.69314718 1.09861229]\n",
            "Common Logarithm: [0.         0.30103    0.47712125]\n",
            "Base 2 Logarithm: [0.        1.        1.5849625]\n"
          ]
        }
      ],
      "source": [
        "arr = np.array([1, 2, 3])\n",
        "\n",
        "# Exponential function (e^x)\n",
        "exp_values = np.exp(arr)\n",
        "print(\"Exponential:\", exp_values)\n",
        "\n",
        "# Natural logarithm (base e)\n",
        "log_values = np.log(arr)\n",
        "print(\"Natural Logarithm:\", log_values)\n",
        "\n",
        "# Common logarithm (base 10)\n",
        "log10_values = np.log10(arr)\n",
        "print(\"Common Logarithm:\", log10_values)\n",
        "\n",
        "# Logarithm of base 2\n",
        "log2_values = np.log2(arr)\n",
        "print(\"Base 2 Logarithm:\", log2_values)"
      ]
    },
    {
      "cell_type": "markdown",
      "metadata": {
        "id": "6EmiHLX06EL6"
      },
      "source": [
        "#### Basic statistical functions:"
      ]
    },
    {
      "cell_type": "code",
      "execution_count": 63,
      "metadata": {
        "colab": {
          "base_uri": "https://localhost:8080/"
        },
        "id": "TKGGSGIb6EL6",
        "outputId": "31f48b3e-a986-4219-ff82-be80d7a3a9bc"
      },
      "outputs": [
        {
          "output_type": "stream",
          "name": "stdout",
          "text": [
            "Mean: 3.0\n",
            "Median: 3.0\n",
            "Standard Deviation: 1.4142135623730951\n",
            "Variance: 2.0\n",
            "Minimum Value: 1\n",
            "Maximum Value: 5\n"
          ]
        }
      ],
      "source": [
        "arr = np.array([1, 2, 3, 4, 5])\n",
        "\n",
        "# Mean\n",
        "mean_value = np.mean(arr)\n",
        "print(\"Mean:\", mean_value)\n",
        "\n",
        "# Median\n",
        "median_value = np.median(arr)\n",
        "print(\"Median:\", median_value)\n",
        "\n",
        "# Standard deviation\n",
        "std_value = np.std(arr)\n",
        "print(\"Standard Deviation:\", std_value)\n",
        "\n",
        "# Variance\n",
        "var_value = np.var(arr)\n",
        "print(\"Variance:\", var_value)\n",
        "\n",
        "# Minimum value\n",
        "min_value = np.min(arr)\n",
        "print(\"Minimum Value:\", min_value)\n",
        "\n",
        "# Maximum value\n",
        "max_value = np.max(arr)\n",
        "print(\"Maximum Value:\", max_value)\n"
      ]
    },
    {
      "cell_type": "markdown",
      "metadata": {
        "id": "UcdKsnLQ6EL6"
      },
      "source": [
        "## What was omitted?\n",
        "\n",
        " - reading an array from text file --> next time\n",
        " - plotting values --> next time (different package)\n",
        " - special functions for linear algebra: Fast Fourier Transform, LU decomposition, SVD decomposition, ....\n",
        " - ....\n",
        "\n",
        "\n",
        " some [tutorials on NumPy](https://numpy.org/numpy-tutorials/index.html)\n"
      ]
    },
    {
      "cell_type": "code",
      "execution_count": 63,
      "metadata": {
        "id": "bfqKe4mj6EL6"
      },
      "outputs": [],
      "source": []
    },
    {
      "cell_type": "markdown",
      "metadata": {
        "id": "jn9Mw7Wr6EL7"
      },
      "source": [
        "😵‍💫 If you are a little lost, don't worry : next time we start plotting graphs, so we will need to work with NumPy arrays and some functions -> we will see these things one more time **in practice**."
      ]
    },
    {
      "cell_type": "code",
      "execution_count": 63,
      "metadata": {
        "id": "T0cFTiLQ6EL7"
      },
      "outputs": [],
      "source": []
    },
    {
      "cell_type": "markdown",
      "metadata": {
        "id": "80H5Orhw6EL7"
      },
      "source": [
        "## Optional homework:\n",
        "\n",
        "*task:* write a function, that will take a matrix, and:\n",
        " - check if the matrix is square\n",
        " - if it's square, return its determinant (`np.det(A)`)\n",
        " - if it's *not* rectangular, reshape it so it's square and then return its determinant\n",
        " - if reshaping is not possible (odd number of elements), fill it with ones\n",
        "\n",
        "(use library NumPy)"
      ]
    },
    {
      "cell_type": "code",
      "execution_count": 63,
      "metadata": {
        "id": "SCnw3rL16EL7"
      },
      "outputs": [],
      "source": []
    },
    {
      "cell_type": "code",
      "execution_count": 63,
      "metadata": {
        "id": "GzAyUzZR6EL7"
      },
      "outputs": [],
      "source": []
    }
  ],
  "metadata": {
    "colab": {
      "provenance": [],
      "toc_visible": true,
      "include_colab_link": true
    },
    "kernelspec": {
      "display_name": "Python 3",
      "name": "python3"
    },
    "language_info": {
      "codemirror_mode": {
        "name": "ipython",
        "version": 3
      },
      "file_extension": ".py",
      "mimetype": "text/x-python",
      "name": "python",
      "nbconvert_exporter": "python",
      "pygments_lexer": "ipython3",
      "version": "3.12.2"
    }
  },
  "nbformat": 4,
  "nbformat_minor": 0
}