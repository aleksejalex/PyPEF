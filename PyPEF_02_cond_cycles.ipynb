{
  "cells": [
    {
      "cell_type": "markdown",
      "metadata": {
        "id": "view-in-github",
        "colab_type": "text"
      },
      "source": [
        "<a href=\"https://colab.research.google.com/github/aleksejalex/PyPEF/blob/main/pypef_02_cond_cycles.ipynb\" target=\"_parent\"><img src=\"https://colab.research.google.com/assets/colab-badge.svg\" alt=\"Open In Colab\"/></a>"
      ]
    },
    {
      "cell_type": "markdown",
      "metadata": {
        "id": "BJ38-zM8iNpQ"
      },
      "source": [
        "# PyPEF, lecture 02. Conditions. Containers. Loops. Functions and classes. Introduction to NumPy.\n",
        "\n",
        "Prepared by: Aleksej Gaj ( pythonforstudents24@gmail.com )\n",
        "\n",
        "🔗 Course website: [https://aleksejalex.4fan.cz/pef_python/](https://aleksejalex.4fan.cz/pef_python/)\n"
      ]
    },
    {
      "cell_type": "markdown",
      "metadata": {
        "id": "ZEI2YaSwiPFc"
      },
      "source": [
        "In this tutorial we familiarize ourselves with\n",
        " - conditional statements in Python and bool values\n",
        " - loops (`for`, `while`)\n",
        " - functions - how to define them and use them\n",
        " - classes - a brief introduction\n",
        " - containers (`list`, `tuple`, `set`, `dict`, `str`)"
      ]
    },
    {
      "cell_type": "markdown",
      "metadata": {
        "id": "29wLZw1gBtVi"
      },
      "source": [
        "## Recall: last time...\n",
        " - basic info about Python (history, philosophy, how to run, ...)\n",
        " - types of variables\n",
        " - condition `if`-`else`"
      ]
    },
    {
      "cell_type": "markdown",
      "metadata": {
        "id": "gkim-1ogBtVl"
      },
      "source": [
        "### Recall: conditions\n",
        "```\n",
        "if CONDITION_THAT_HAS_BOOL_VALUE:\n",
        "    DO_IT_WHEN_COND_IS_TRUE\n",
        "elif OTHER_CONDITION:\n",
        "    DO_IT_WHEN_COND_IS_TRUE\n",
        "else:\n",
        "    DO_THIS_WHEN_CONDITIONS_WERENT_SATISFIED\n",
        "```"
      ]
    },
    {
      "cell_type": "code",
      "execution_count": null,
      "metadata": {
        "id": "570cDj4MiP0n"
      },
      "outputs": [],
      "source": [
        "is_sunny = False\n",
        "\n",
        "if is_sunny == False:\n",
        "    print(f\"It's cloudy. ☁️☁️☁️\")\n",
        "else:\n",
        "    # 'is_sunny' is True\n",
        "    print(f\"Great weather! ☀️☀️☀️\") # note that Python is ok with any UTF8 characters"
      ]
    },
    {
      "cell_type": "code",
      "execution_count": null,
      "metadata": {
        "id": "aO8eccc7BtVq"
      },
      "outputs": [],
      "source": [
        "if type(is_sunny) == bool:\n",
        "    print(f\"'is_sunny' is of boolean type.\")\n",
        "else:\n",
        "    print(\"This line will be never executed (hopefully).\")"
      ]
    },
    {
      "cell_type": "markdown",
      "metadata": {
        "id": "5YooME-oBtVt"
      },
      "source": [
        "Composite conditions - via operators `and`, `or` and `not`:"
      ]
    },
    {
      "cell_type": "code",
      "execution_count": null,
      "metadata": {
        "id": "P1qnvdK9BtVu"
      },
      "outputs": [],
      "source": [
        "is_sunny = True\n",
        "is_weekend = not True\n",
        "\n",
        "if is_sunny or is_weekend:\n",
        "    print(f\"It's sunny or it's weekend today.\")"
      ]
    },
    {
      "cell_type": "code",
      "execution_count": null,
      "metadata": {
        "id": "Iv1QVMVJBtVx"
      },
      "outputs": [],
      "source": [
        "is_weekend = True\n",
        "\n",
        "if is_sunny and is_weekend:\n",
        "    print(f\"It's sunny and weekend. Picnic time! 🥂🏕️\")"
      ]
    },
    {
      "cell_type": "markdown",
      "metadata": {
        "id": "pc3n6SkjBtVy"
      },
      "source": [
        "⚠️ **Operators for comparing**\n",
        " - operator `is` checks for **identity**\n",
        " - operator `==` checks for **equality**\n",
        "\n",
        "Example:"
      ]
    },
    {
      "cell_type": "code",
      "execution_count": null,
      "metadata": {
        "colab": {
          "base_uri": "https://localhost:8080/"
        },
        "id": "eAZQT3aSBtVz",
        "outputId": "4a8dab6f-e160-4d95-9a4e-48ae697eb88e"
      },
      "outputs": [
        {
          "output_type": "stream",
          "name": "stdout",
          "text": [
            "a and b reference different objects.\n",
            "The values of a and b are equal.\n"
          ]
        }
      ],
      "source": [
        "a = [1, 2, 3]  # let's have two lists - same values, different objects\n",
        "b = [1, 2, 3]  # they're equal, but not the same\n",
        "\n",
        "if a is b:\n",
        "    print(\"a and b reference the same object.\")\n",
        "else:\n",
        "    print(\"a and b reference different objects.\")\n",
        "\n",
        "if a == b:\n",
        "    print(\"The values of a and b are equal.\")\n",
        "else:\n",
        "    print(\"The values of a and b are not equal.\")"
      ]
    },
    {
      "cell_type": "code",
      "source": [
        "c = a\n",
        "\n",
        "if a is c:\n",
        "    print(\"a and c reference the same object.\")\n",
        "else:\n",
        "    print(\"a and c reference different objects.\")"
      ],
      "metadata": {
        "colab": {
          "base_uri": "https://localhost:8080/"
        },
        "id": "PYLsH15rE0GZ",
        "outputId": "4e76806c-99fc-483c-9829-686525efb604"
      },
      "execution_count": null,
      "outputs": [
        {
          "output_type": "stream",
          "name": "stdout",
          "text": [
            "a and c reference the same object.\n"
          ]
        }
      ]
    },
    {
      "cell_type": "markdown",
      "metadata": {
        "id": "8Z3XHeIvBtV0"
      },
      "source": [
        "Even worse (more dangerous) property:"
      ]
    },
    {
      "cell_type": "code",
      "execution_count": null,
      "metadata": {
        "id": "IKQOI-vABtV0",
        "outputId": "d689419e-7aac-4abb-c1ee-c4d07e3920e7",
        "colab": {
          "base_uri": "https://localhost:8080/"
        }
      },
      "outputs": [
        {
          "output_type": "stream",
          "name": "stdout",
          "text": [
            "a = [1, 2, 3] ; b = [1, 2, 3]\n"
          ]
        }
      ],
      "source": [
        "a = [1,2,3]\n",
        "b = a\n",
        "print(f\"a = {a} ; b = {b}\")\n"
      ]
    },
    {
      "cell_type": "code",
      "execution_count": null,
      "metadata": {
        "id": "aHPzCGuOBtV1",
        "outputId": "07285211-8700-4ed5-8fe0-12d123869a23",
        "colab": {
          "base_uri": "https://localhost:8080/"
        }
      },
      "outputs": [
        {
          "output_type": "stream",
          "name": "stdout",
          "text": [
            "a = [1, 2, 3, 4] ; b = [1, 2, 3, 4]\n"
          ]
        }
      ],
      "source": [
        "b.append(4) # add 4 to the list b\n",
        "print(f\"a = {a} ; b = {b}\")"
      ]
    },
    {
      "cell_type": "markdown",
      "metadata": {
        "id": "fwh9-Tw4BtV2"
      },
      "source": [
        "Oh no! 🤦‍♂️ How did it happen?\n",
        "\n",
        "Statement `b=a` means that variable a has new handler. But it still the same variable, with same values. (It's like calling your friend by name or by nickname.)\n",
        "\n",
        "💡 To avoid this, we use copy constructor, which creates new instance of required type and copies the value:"
      ]
    },
    {
      "cell_type": "code",
      "execution_count": null,
      "metadata": {
        "id": "jr8Pcn6HBtV2",
        "outputId": "f6b1866f-ba47-42ab-fbc4-576f1a2aa563",
        "colab": {
          "base_uri": "https://localhost:8080/"
        }
      },
      "outputs": [
        {
          "output_type": "stream",
          "name": "stdout",
          "text": [
            "a = [1, 2, 3, 4] ; c = [1, 2, 3, 4]\n",
            "a = [1, 2, 3, 4] ; c = [1, 2, 3, 4, 5]\n"
          ]
        }
      ],
      "source": [
        "c = a.copy()\n",
        "print(f\"a = {a} ; c = {c}\")\n",
        "c.append(5)\n",
        "print(f\"a = {a} ; c = {c}\")"
      ]
    },
    {
      "cell_type": "markdown",
      "metadata": {
        "id": "68-2XTmjBtV3"
      },
      "source": [
        "### Solution of homework from last time\n",
        "> \" create a program which writes your name and wether year of your\n",
        "birthday is odd or even\""
      ]
    },
    {
      "cell_type": "code",
      "execution_count": null,
      "metadata": {
        "id": "3CLTayKlBtV4",
        "outputId": "4c95bda9-5f8b-4e48-bc9b-b9f55801cdc5"
      },
      "outputs": [
        {
          "name": "stdout",
          "output_type": "stream",
          "text": [
            "So you are Alex and you were born in 1997.\n"
          ]
        }
      ],
      "source": [
        "your_name = input(\"Enter name --> \")\n",
        "your_year_of_birth = input(\"Enter the year you was born --> \")\n",
        "\n",
        "your_name = str(your_name)\n",
        "your_year_of_birth = int(your_year_of_birth)\n",
        "\n",
        "print(f\"So you are {your_name} and you were born in {your_year_of_birth}.\")"
      ]
    },
    {
      "cell_type": "code",
      "execution_count": null,
      "metadata": {
        "id": "UvXCK_LNiQW-",
        "outputId": "bd267d4f-37fa-459c-a1ac-aa72c7a3dff8"
      },
      "outputs": [
        {
          "name": "stdout",
          "output_type": "stream",
          "text": [
            "The year is odd.\n"
          ]
        }
      ],
      "source": [
        "if your_year_of_birth % 2 == 0:\n",
        "    print(f\"The year is even.\")\n",
        "else:\n",
        "    print(f\"The year is odd.\")"
      ]
    },
    {
      "cell_type": "markdown",
      "metadata": {
        "id": "hZrXlpj7BtV-"
      },
      "source": [
        "## Loops `for` and `while`. Keywords `break` and `continue`."
      ]
    },
    {
      "cell_type": "markdown",
      "metadata": {
        "id": "avvPM09yBtV-"
      },
      "source": [
        "### `for` loop"
      ]
    },
    {
      "cell_type": "markdown",
      "metadata": {
        "id": "1_zGMgnOBtV-"
      },
      "source": [
        " - for loop runs a block of code sequentially for given amount of times.\n",
        " - it can iterate over: list, tuple, string, range, set, ...\n",
        " - structure of fo cycle is as follows:\n",
        "```\n",
        "for ITERATOR in ITERATED_OBJ:\n",
        "    CODE_THAT_RUNS_IN_LOOP\n",
        "```"
      ]
    },
    {
      "cell_type": "code",
      "execution_count": null,
      "metadata": {
        "id": "zZ1GrToWBtV_",
        "outputId": "6d608959-c33e-4ea2-cb2a-11ee31ecada4",
        "colab": {
          "base_uri": "https://localhost:8080/"
        }
      },
      "outputs": [
        {
          "output_type": "stream",
          "name": "stdout",
          "text": [
            "P\n",
            "E\n",
            "F\n",
            " \n",
            "Č\n",
            "Z\n",
            "U\n"
          ]
        }
      ],
      "source": [
        "my_str = \"PEF ČZU\"\n",
        "\n",
        "for letter in my_str:  # reads as \"for each char in 'my_str' do following:\"\n",
        "    print(letter)"
      ]
    },
    {
      "cell_type": "code",
      "execution_count": null,
      "metadata": {
        "id": "NRKpJxmoBtV_",
        "outputId": "6487a9c0-79d9-427e-b3aa-0ba45fa57d89",
        "colab": {
          "base_uri": "https://localhost:8080/"
        }
      },
      "outputs": [
        {
          "output_type": "stream",
          "name": "stdout",
          "text": [
            "number = 10\n",
            "number = 20\n",
            "number = 30\n"
          ]
        }
      ],
      "source": [
        "numbers = [10, 20, 30]\n",
        "for number in numbers:  # reads as \"for each number in 'numbers' do following:\"\n",
        "    print(f\"number = {number}\")"
      ]
    },
    {
      "cell_type": "code",
      "execution_count": null,
      "metadata": {
        "id": "BDC_5tqTiQUS",
        "outputId": "c841d159-51c5-40b2-ccb8-262342910f88",
        "colab": {
          "base_uri": "https://localhost:8080/"
        }
      },
      "outputs": [
        {
          "output_type": "stream",
          "name": "stdout",
          "text": [
            "i = 0\n",
            "i = 1\n",
            "i = 2\n"
          ]
        }
      ],
      "source": [
        "for i in range(3):  # range is specific function used mainly in 'for' loops\n",
        "    print(f\"i = {i}\")"
      ]
    },
    {
      "cell_type": "code",
      "execution_count": null,
      "metadata": {
        "id": "5O2RbLHPBtWA",
        "outputId": "6c1a2872-a8a1-48eb-9f31-02bcea60c4f2",
        "colab": {
          "base_uri": "https://localhost:8080/"
        }
      },
      "outputs": [
        {
          "output_type": "stream",
          "name": "stdout",
          "text": [
            "range(0, 3)\n"
          ]
        }
      ],
      "source": [
        "print(range(3))"
      ]
    },
    {
      "cell_type": "markdown",
      "metadata": {
        "id": "mPEAphn8BtWA"
      },
      "source": [
        "🚨 Reminder: By default Python indexes from zero."
      ]
    },
    {
      "cell_type": "code",
      "execution_count": null,
      "metadata": {
        "id": "b-tASEBHiQRb",
        "outputId": "4c40e089-8741-458e-82ec-849df031ae8a",
        "colab": {
          "base_uri": "https://localhost:8080/"
        }
      },
      "outputs": [
        {
          "output_type": "stream",
          "name": "stdout",
          "text": [
            "i = 2\n",
            "i = 3\n",
            "i = 4\n"
          ]
        }
      ],
      "source": [
        "for i in range(2,5):\n",
        "    print(f\"i = {i}\")"
      ]
    },
    {
      "cell_type": "code",
      "execution_count": null,
      "metadata": {
        "id": "vtP-rMNYiQO8",
        "outputId": "c297cc23-76c8-4472-f95f-c087c266aa38",
        "colab": {
          "base_uri": "https://localhost:8080/"
        }
      },
      "outputs": [
        {
          "output_type": "stream",
          "name": "stdout",
          "text": [
            "i = dies\n",
            "i = !\n",
            "i = Tomorrow\n",
            "i = never\n"
          ]
        }
      ],
      "source": [
        "my_set = {'Tomorrow', 'never', 'dies', '!'}\n",
        "for i in my_set:\n",
        "    print(f\"i = {i}\")"
      ]
    },
    {
      "cell_type": "markdown",
      "metadata": {
        "id": "iqCSaMjSBtWC"
      },
      "source": [
        "Note: set does not respect any order."
      ]
    },
    {
      "cell_type": "markdown",
      "metadata": {
        "id": "Xx_O47YQBtWC"
      },
      "source": [
        "### `while` loop\n",
        "- runs a block of code *while* a specified condition is `True` ( = until the condition is not fulfilled anymore)\n",
        "\n",
        "```\n",
        "while CONDITION:\n",
        "    DO_IT_WHILE_CONDITION_IS_TRUE\n",
        "```"
      ]
    },
    {
      "cell_type": "code",
      "execution_count": null,
      "metadata": {
        "id": "L0NimKSBiQMH",
        "outputId": "6b586c95-d657-486b-e442-1c9789107598"
      },
      "outputs": [
        {
          "name": "stdout",
          "output_type": "stream",
          "text": [
            "0.06103515625\n"
          ]
        }
      ],
      "source": [
        "num = 1000\n",
        "while num > 0.1:\n",
        "    num = num / 2\n",
        "print(num)"
      ]
    },
    {
      "cell_type": "code",
      "execution_count": null,
      "metadata": {
        "id": "O68ElzuYBtWC",
        "outputId": "b70ab56a-de57-4de6-93a5-6ff7b08c0bb3"
      },
      "outputs": [
        {
          "name": "stdout",
          "output_type": "stream",
          "text": [
            "1024\n"
          ]
        }
      ],
      "source": [
        "num = 2\n",
        "while num < 1000:\n",
        "    num = num * 2\n",
        "print(num)"
      ]
    },
    {
      "cell_type": "markdown",
      "metadata": {
        "id": "IN3VFwXnBtWD"
      },
      "source": [
        "📝 Note: it's simple to create a while that will run forever (until you PC/Colab crashes). So be careful: be sure your condition can be violated (one day). \\\n",
        "*Example* ( 🔥 danger ahead 🔥 ):"
      ]
    },
    {
      "cell_type": "code",
      "execution_count": null,
      "metadata": {
        "id": "u8uxBOBoBtWD"
      },
      "outputs": [],
      "source": [
        "while True:\n",
        "    print('still running..')"
      ]
    },
    {
      "cell_type": "markdown",
      "metadata": {
        "id": "7YkF_bcuBtWD"
      },
      "source": [
        "**How to kill execution:** use Stop icon (or `Ctrl+C`)."
      ]
    },
    {
      "cell_type": "markdown",
      "source": [
        "### Influencing run of `while`: `break` and `continue`"
      ],
      "metadata": {
        "id": "WWpfgYtT52UK"
      }
    },
    {
      "cell_type": "markdown",
      "source": [
        " - `break` - obviously meant to stop while at this moment and and looping\n",
        " - `continue` - stop current run of loop and continue with another one"
      ],
      "metadata": {
        "id": "pPp1IhDq5_Ha"
      }
    },
    {
      "cell_type": "code",
      "source": [
        "num = 0\n",
        "\n",
        "while num <= 10:\n",
        "    num = num + 1\n",
        "    if num == 4:\n",
        "        break\n",
        "    print(f\"num = {num}\")"
      ],
      "metadata": {
        "colab": {
          "base_uri": "https://localhost:8080/"
        },
        "id": "T_AkDYvn6KZA",
        "outputId": "d27eba6d-a123-4220-f669-e992ea37b4e4"
      },
      "execution_count": null,
      "outputs": [
        {
          "output_type": "stream",
          "name": "stdout",
          "text": [
            "num = 1\n",
            "num = 2\n",
            "num = 3\n"
          ]
        }
      ]
    },
    {
      "cell_type": "markdown",
      "source": [
        "❓ Why the prints start with `1`? Isn't it strange? 🤔💭"
      ],
      "metadata": {
        "id": "FVq9Y1A56sbb"
      }
    },
    {
      "cell_type": "code",
      "source": [
        "num = 0\n",
        "\n",
        "while num <= 10:\n",
        "    num = num + 1\n",
        "    if num == 4:\n",
        "        continue\n",
        "    print(f\"num = {num}\")"
      ],
      "metadata": {
        "colab": {
          "base_uri": "https://localhost:8080/"
        },
        "id": "ZTqsOqKo518F",
        "outputId": "3468ec67-6638-4e67-916b-125543509204"
      },
      "execution_count": null,
      "outputs": [
        {
          "output_type": "stream",
          "name": "stdout",
          "text": [
            "num = 1\n",
            "num = 2\n",
            "num = 3\n",
            "num = 5\n",
            "num = 6\n",
            "num = 7\n",
            "num = 8\n",
            "num = 9\n",
            "num = 10\n",
            "num = 11\n"
          ]
        }
      ]
    },
    {
      "cell_type": "markdown",
      "source": [
        "❓ Why prints end with `11`? Is it expected behaviour?"
      ],
      "metadata": {
        "id": "J7xXHHCt6oV5"
      }
    },
    {
      "cell_type": "markdown",
      "source": [
        "Example of potencial usage:\n",
        "\n",
        "```\n",
        "while True:\n",
        "    if desired_condition_happens():\n",
        "        break\n",
        "    if unwanted_situation_reached():\n",
        "        continue\n",
        "    do_something()\n",
        "```\n",
        "i.e. infinitely try to search for solution, the desired solution is recognized with `desired_condition_happens()`, unwanted condition is avoided/\"filtered\" with `unwanted_situation_reached()`.\n",
        "\n",
        "\n",
        "Example:"
      ],
      "metadata": {
        "id": "bPci2kq27RGy"
      }
    },
    {
      "cell_type": "code",
      "source": [
        "max_num = 10 # starting value, try 10**13\n",
        "is_prime = True\n",
        "\n",
        "num = max_num\n",
        "\n",
        "while num > 1:\n",
        "    num = num - 1  # Decrease number by 1 in each iteration\n",
        "\n",
        "    # check if the number is divisible by any number less than itself\n",
        "    for i in range(2, int(num ** 0.5) + 1):\n",
        "        if num % i == 0:  # if the number is divisible by any other number, it's not prime\n",
        "            is_prime = False\n",
        "            break\n",
        "\n",
        "    if not is_prime:  # if not prime, continue to next iteration\n",
        "        is_prime = True  # reset is_prime for next iteration\n",
        "        continue\n",
        "\n",
        "    # if the number is prime, print it and break the loop\n",
        "    print(f\"The largest prime number below {max_num}) is: {num}\")\n",
        "    break"
      ],
      "metadata": {
        "colab": {
          "base_uri": "https://localhost:8080/"
        },
        "id": "zcqBqx7VAUMQ",
        "outputId": "a88f1462-496c-4b7e-97b4-aa2090c41aac"
      },
      "execution_count": null,
      "outputs": [
        {
          "output_type": "stream",
          "name": "stdout",
          "text": [
            "The largest prime number below 10) is: 7\n"
          ]
        }
      ]
    },
    {
      "cell_type": "markdown",
      "metadata": {
        "id": "wEIHfEJeBtWE"
      },
      "source": [
        "### Optional homework:\n",
        "task: implement a game \"Guess a number\".\n",
        "\n",
        "Program has to do following steps:\n",
        " - choose a random integer between 1 and 10 (pre-prepared below)\n",
        " - user has to guess the number (ask user for the guess)\n",
        " - game ends *either* when user guesses correctly or when user gives up.\n",
        "\n",
        "Hint: use `while` loop with composite condition.\n",
        "  "
      ]
    },
    {
      "cell_type": "code",
      "execution_count": null,
      "metadata": {
        "id": "dvHdQJ6EBtWE",
        "outputId": "1841406d-f796-4e1a-cb76-47a22fb30582"
      },
      "outputs": [
        {
          "data": {
            "text/plain": [
              "False"
            ]
          },
          "execution_count": 25,
          "metadata": {},
          "output_type": "execute_result"
        }
      ],
      "source": [
        "True and False"
      ]
    },
    {
      "cell_type": "code",
      "execution_count": null,
      "metadata": {
        "id": "RVI12mLWBtWE",
        "outputId": "3c4c7cf3-169c-4936-9554-7ae7ea144ad0"
      },
      "outputs": [
        {
          "name": "stdout",
          "output_type": "stream",
          "text": [
            "Finishing game...\n",
            "The number was 1..\n"
          ]
        }
      ],
      "source": [
        "import random\n",
        "rand_num = random.randrange(1, 11) # returns random int between 1 and 10 including\n",
        "\n"
      ]
    },
    {
      "cell_type": "markdown",
      "metadata": {
        "id": "5tc89lp3BtWF"
      },
      "source": [
        "## Intermezzo: \"one-liners\".\n",
        " There is a way to write `for` loop and conditions in one line. \\\n",
        "✅ a little shorter code \\\n",
        "❌ less readable code\n"
      ]
    },
    {
      "cell_type": "code",
      "execution_count": null,
      "metadata": {
        "id": "wiZ6EKtABtWF",
        "outputId": "79c010f3-a751-441c-a37a-8aa38c5f73a8"
      },
      "outputs": [
        {
          "name": "stdout",
          "output_type": "stream",
          "text": [
            "[0, 2, 4, 6, 8]\n"
          ]
        }
      ],
      "source": [
        "# one-line for loop\n",
        "even_numbers = [x for x in range(10) if x % 2 == 0]\n",
        "print(even_numbers)"
      ]
    },
    {
      "cell_type": "code",
      "execution_count": null,
      "metadata": {
        "id": "PuejnxhQiQFd",
        "outputId": "e1ec4d52-bd66-4bb7-abf0-0ccb016b5f43"
      },
      "outputs": [
        {
          "name": "stdout",
          "output_type": "stream",
          "text": [
            "Even\n"
          ]
        }
      ],
      "source": [
        "# one-line if-else statement\n",
        "num = 10\n",
        "result = \"Even\" if num % 2 == 0 else \"Odd\"\n",
        "print(result)\n"
      ]
    },
    {
      "cell_type": "markdown",
      "metadata": {
        "id": "YVBNHulGBtWG"
      },
      "source": [
        "## Functions - the important object.\n",
        "\n",
        "Functions in Python looks similar like in other languages.\n",
        "\n",
        "```\n",
        "def name(ARG1, ARG2, ... ):\n",
        "    CODE_EXECUTED\n",
        "    return RETURN_VALUE\n",
        "```"
      ]
    },
    {
      "cell_type": "code",
      "execution_count": null,
      "metadata": {
        "id": "d4PUd7HsBtWG",
        "outputId": "99af0266-e6bb-4985-b403-ee4e43af03ad"
      },
      "outputs": [
        {
          "name": "stdout",
          "output_type": "stream",
          "text": [
            "Hello, Python!\n"
          ]
        }
      ],
      "source": [
        "def say_hello(name):\n",
        "    print(f\"Hello, {name}!\")\n",
        "\n",
        "say_hello(\"Python\")"
      ]
    },
    {
      "cell_type": "markdown",
      "metadata": {
        "id": "MVemavnaBtWG"
      },
      "source": [
        "Some optional (yet useful) tweaks:\n",
        " - documentation - multiline string saying what the function does\n",
        " - default arguments (~ optional arguments): its type and value\n",
        " - return (if funtions shouldn't return anything, it can return `None`)\n",
        " - during development - place holder `pass` (holds spaces, does nothing)\n",
        "    > ```\n",
        "    > def this_function_i_will_implement_later():\n",
        "    >     pass\n",
        "    > ```\n",
        "\n",
        "\n",
        "Let's make that trivial function one more time with all these tweaks:"
      ]
    },
    {
      "cell_type": "code",
      "execution_count": null,
      "metadata": {
        "id": "x_epQXX3BtWH",
        "outputId": "301d0591-4a1a-4da4-f1e5-c19a754f6f50"
      },
      "outputs": [
        {
          "name": "stdout",
          "output_type": "stream",
          "text": [
            "Hello, Python!\n",
            "Hello, Alex!\n"
          ]
        }
      ],
      "source": [
        "def say_hello(name: str = \"Python\"):\n",
        "    \"\"\"\n",
        "    function that prints out greeting for specified name.\n",
        "    \"\"\"\n",
        "    print(f\"Hello, {name}!\")\n",
        "    return None\n",
        "\n",
        "# now we can call the function without argument -> default value is used.\n",
        "say_hello()\n",
        "say_hello(\"Alex\")"
      ]
    },
    {
      "cell_type": "markdown",
      "metadata": {
        "id": "I2CY-4L1BtWH"
      },
      "source": [
        "Functions with several arguments (one mandatory, one optional):"
      ]
    },
    {
      "cell_type": "code",
      "execution_count": null,
      "metadata": {
        "id": "QatP-ITmBtWH",
        "outputId": "c85215d0-18d6-42a4-87d4-a40e23931198"
      },
      "outputs": [
        {
          "name": "stdout",
          "output_type": "stream",
          "text": [
            "3 squared is 9\n",
            "2 in power of 3 is 8\n"
          ]
        }
      ],
      "source": [
        "def power(base: float, exponent: int = 2):\n",
        "    \"\"\"\n",
        "    Calculates the power of a number.\n",
        "\n",
        "    Parameters:\n",
        "        base (int): The base number.\n",
        "        exponent (int, optional): The exponent. Default is 2.\n",
        "\n",
        "    Returns:\n",
        "        int: The result of base raised to the power of exponent.\n",
        "    \"\"\"\n",
        "    return base ** exponent\n",
        "\n",
        "print(f\"3 squared is {power(3)}\")\n",
        "print(f\"2 in power of 3 is {power(2, 3)}\")\n"
      ]
    },
    {
      "cell_type": "markdown",
      "metadata": {
        "id": "yszCE3ObBtWI"
      },
      "source": [
        "If variables are passed via name, you can pass them in any order:"
      ]
    },
    {
      "cell_type": "code",
      "execution_count": null,
      "metadata": {
        "id": "4lt3n2aQBtWI",
        "outputId": "6b5bf8f7-99bf-453e-9317-1313ce280388"
      },
      "outputs": [
        {
          "data": {
            "text/plain": [
              "256"
            ]
          },
          "execution_count": 58,
          "metadata": {},
          "output_type": "execute_result"
        }
      ],
      "source": [
        "power(exponent=8, base = 2)"
      ]
    },
    {
      "cell_type": "markdown",
      "metadata": {
        "id": "nEgKMGqIBtWI"
      },
      "source": [
        "### One-liners again: `lambda` functions\n",
        "\n",
        " - function defined in one line\n",
        " - keyword `lambda`\n",
        " - **any number of input arguments, but only one expression**\n",
        "\n",
        "```\n",
        "NAME_OF_FUNC = lambda ARG1, ARG2: EXPRESSION return VALUE\n",
        "```"
      ]
    },
    {
      "cell_type": "code",
      "execution_count": null,
      "metadata": {
        "id": "oEfOJ7TcBtWI",
        "outputId": "06d4fc67-55a2-44ac-b0d2-220a69786212"
      },
      "outputs": [
        {
          "name": "stdout",
          "output_type": "stream",
          "text": [
            "25\n"
          ]
        }
      ],
      "source": [
        "square = lambda x: x ** 2\n",
        "print(square(5))"
      ]
    },
    {
      "cell_type": "code",
      "execution_count": null,
      "metadata": {
        "id": "IquZbp2-BtWJ",
        "outputId": "602c6868-cafb-49c4-96a7-ff583aa2de70"
      },
      "outputs": [
        {
          "name": "stdout",
          "output_type": "stream",
          "text": [
            " 3 is dividable by 2 : False\n",
            " 4 is dividable by 2 : True\n"
          ]
        }
      ],
      "source": [
        "is_dividable = lambda x, y: True if x % y == 0 else False\n",
        "\n",
        "print(f\" 3 is dividable by 2 : {is_dividable(3,2)}\")\n",
        "print(f\" 4 is dividable by 2 : {is_dividable(4,2)}\")"
      ]
    },
    {
      "cell_type": "markdown",
      "metadata": {
        "id": "WhWe7IH4BtWJ"
      },
      "source": [
        "## Classes.\n",
        "\n",
        "= a \"blueprint\" to create objects\n",
        "\n",
        " - defines the properties (attributes) and behaviors (methods) that objects of that class will have\n",
        "\n",
        "Example:\n",
        "Let's imagine we create cats.\n",
        "\n",
        "<img src=\"https://aleksejalex.4fan.cz/pef_python/img/blueprint_of_cat_and_a_cat4.jpeg\" alt=\"creating different cats from same blueprint\" width=\"300\">\n",
        "\n"
      ]
    },
    {
      "cell_type": "code",
      "execution_count": null,
      "metadata": {
        "id": "of15mdOyBtWJ"
      },
      "outputs": [],
      "source": [
        "class Cat:\n",
        "    def __init__(self, given_name, colour, weight = 12000):\n",
        "        self.name = given_name\n",
        "        self.colour = colour\n",
        "        self.weight = weight  # weight in grams\n",
        "        self.gender = 'male'\n",
        "\n",
        "    def eat(self, amount_of_food):\n",
        "        \"\"\"when it eats, it gains weight\"\"\"\n",
        "        self.weight = self.weight + amount_of_food\n",
        "\n",
        "    def run_around(self, distance = 1):\n",
        "        \"\"\"each km of running makes cat loose 200gr of weight\"\"\"\n",
        "        self.weight = self.weight - 200*distance\n",
        "\n",
        "    def say(self, what_to_say: str = \"meoOow\"):\n",
        "        \"\"\"makes your cat talk\"\"\"\n",
        "        print(f\"Cat {self.name} says: {what_to_say}.\")\n"
      ]
    },
    {
      "cell_type": "code",
      "execution_count": null,
      "metadata": {
        "id": "TolOpE2kBtWK",
        "outputId": "a8e84fd3-848c-48c7-c607-166a5048c26c"
      },
      "outputs": [
        {
          "name": "stdout",
          "output_type": "stream",
          "text": [
            "<__main__.Cat object at 0x7f0d6d0c2a20>\n"
          ]
        }
      ],
      "source": [
        "# define my cat\n",
        "my_cat = Cat(\"Puss\", \"orange\")  # only name was mandatory property\n",
        "\n",
        "print(my_cat)  # just object in memory"
      ]
    },
    {
      "cell_type": "code",
      "execution_count": null,
      "metadata": {
        "id": "-UOewAbsBtWK",
        "outputId": "120cf41e-2629-4694-f0a1-89a646609ca0"
      },
      "outputs": [
        {
          "name": "stdout",
          "output_type": "stream",
          "text": [
            "Puss\n",
            "12000\n"
          ]
        }
      ],
      "source": [
        "# Properties of my cat\n",
        "print(my_cat.name)\n",
        "print(my_cat.weight)"
      ]
    },
    {
      "cell_type": "code",
      "execution_count": null,
      "metadata": {
        "id": "SBvrcpAwBtWK",
        "outputId": "4d9204e8-39ce-4867-f8a9-893092364f70"
      },
      "outputs": [
        {
          "name": "stdout",
          "output_type": "stream",
          "text": [
            "Cat Puss says: I'm hungry!.\n"
          ]
        }
      ],
      "source": [
        "# let the cat speak for itself:\n",
        "my_cat.say(\"I'm hungry!\")"
      ]
    },
    {
      "cell_type": "code",
      "execution_count": null,
      "metadata": {
        "id": "XSGxySXXBtWK",
        "outputId": "0fa9b7be-f22e-4b50-a3e8-b2d84d9e421f"
      },
      "outputs": [
        {
          "name": "stdout",
          "output_type": "stream",
          "text": [
            "12250\n"
          ]
        }
      ],
      "source": [
        "my_cat.eat(250) # cat eat a tuna can (250grams)\n",
        "print(my_cat.weight)"
      ]
    },
    {
      "cell_type": "markdown",
      "metadata": {
        "id": "I-UTkFb6BtWK"
      },
      "source": [
        "Let's see how our cat burns calories:"
      ]
    },
    {
      "cell_type": "code",
      "execution_count": null,
      "metadata": {
        "id": "9mlqjIOcBtWL",
        "outputId": "f588e5d1-a05a-4a18-cd0c-b04fe7820981"
      },
      "outputs": [
        {
          "name": "stdout",
          "output_type": "stream",
          "text": [
            "11650\n"
          ]
        }
      ],
      "source": [
        "my_cat.run_around(3)  # let it run 3 km\n",
        "print(my_cat.weight)"
      ]
    },
    {
      "cell_type": "code",
      "execution_count": null,
      "metadata": {
        "id": "SbmX8o5dBtWL"
      },
      "outputs": [],
      "source": [
        "neibourghs_cat = Cat(given_name=\"Mathilda\", colour=\"black\", weight=7000)\n"
      ]
    },
    {
      "cell_type": "markdown",
      "metadata": {
        "id": "Fqsn88K7BtWL"
      },
      "source": [
        "### Optional homework\n",
        "task: implement a class `Car` and build a garage of your dreams.\n",
        "\n",
        "Technically: `Car` should have some properties (for example: `name`, `license_plate`, `condition`, `color`, `consumption`, ...) and methods (for example: `drive_to()`, `repaint()`, `clean_up()`, `fill_tank()`, ...)\n",
        "\n",
        "Play with those a little to get used to:\n",
        " - defining a class\n",
        " - creating instances (with optional arguments)\n",
        " - using them\n",
        "\n",
        " (of course you can choose any other example, it doesn't have to be `Car` class)"
      ]
    },
    {
      "cell_type": "markdown",
      "metadata": {
        "id": "ywJQSo0pBtWL"
      },
      "source": []
    },
    {
      "cell_type": "markdown",
      "metadata": {
        "id": "CsS_W8B1BtV5"
      },
      "source": [
        "## Containers.\n",
        "Python uses several containers:\n",
        " - list\n",
        "\n",
        "\n",
        "| Type         | Description                                | Example                   |\n",
        "|--------------|--------------------------------------------|---------------------------|\n",
        "| list         | Ordered collection of items                | `my_list = [1, 2, 3]`     |\n",
        "| tuple        | Immutable ordered collection of items      | `my_tuple = (1, 2, 3)`    |\n",
        "| set          | Unordered collection of unique items       | `my_set = {1, 2, 3}`      |\n",
        "| dict         | Collection of key-value pairs              | `my_dict = {'eggs': 6, 'apples': 3, 'cookies': \"chocolate\"}`|\n"
      ]
    },
    {
      "cell_type": "markdown",
      "metadata": {
        "id": "WXUUiZ0XBtV5"
      },
      "source": [
        "Properties:"
      ]
    },
    {
      "cell_type": "markdown",
      "metadata": {
        "id": "nZ7EOuY8BtV6"
      },
      "source": [
        "| Type  \t| Ordered?         \t| Can add new elements? \t| Can contain duplicates? \t| Example                                                      \t|\n",
        "|-------\t|------------------\t|-----------------------\t|-------------------------\t|--------------------------------------------------------------\t|\n",
        "| list  \t| ✅                \t| ✅ (via `.add()`)      \t| ✅                       \t| `my_list = [1, 2, 3]`                                        \t|\n",
        "| tuple \t| ✅                \t| ❌                     \t| ✅                       \t| `my_tuple = (1, 2, 3)`                                       \t|\n",
        "| set   \t| ❌                \t| 🟠 (via `.union()`)    \t| ❌                       \t| `my_set = {1, 2, 3}`                                         \t|\n",
        "| dict  \t| ✅ (newer Python) \t| 🟠 (via `.update()`)   \t| ❌                       \t| `my_dict = {'eggs': 6, 'apples': 3, 'cookies': \"chocolate\"}` \t|\n",
        "| str   \t| ✅                \t| 🟠 (via `concat()`)    \t| ✅                       \t| `my_string = \"Hello 2024!\"`                                  \t|"
      ]
    },
    {
      "cell_type": "markdown",
      "metadata": {
        "id": "baUcdVNOBtV6"
      },
      "source": [
        "🚧 Note about **object-oriented programming** (OOP):\n",
        "\n",
        "In OOP, objects are instances of classes. A class defines the structure and behavior of objects, while objects themselves contain data and code (values/properties and methods/procedures).\n",
        "\n",
        "*Example* (try it yourself!):\n",
        "> object name: `capital_city` \\\n",
        "> object type: `str` \\\n",
        "> value : `\"prague\"` \\\n",
        "> method/procedure: `capitalize()`\n",
        "\n",
        "\n",
        "\n",
        "Method/procedure is a function that\n",
        " - either changes the object itself (its data),\n",
        " - or returns a value\n",
        "\n",
        "\n",
        "In Python **everything is considered to be an object!**  "
      ]
    },
    {
      "cell_type": "code",
      "execution_count": null,
      "metadata": {
        "id": "cCMEAfNiBtV7",
        "outputId": "acff7cb1-049d-4cc9-88f9-1e3cd4a84c67"
      },
      "outputs": [
        {
          "name": "stdout",
          "output_type": "stream",
          "text": [
            "[2, 3, 3, 'abc123', 3.14, 'cookie']\n"
          ]
        }
      ],
      "source": [
        "# list ... most common, universal\n",
        "a_list = [2, 3, 3, 'abc123', 3.14]\n",
        "a_list.append(\"cookie\")\n",
        "print(a_list)"
      ]
    },
    {
      "cell_type": "markdown",
      "metadata": {
        "id": "14VzDgrjBtV7"
      },
      "source": [
        "🚨 Note: By default Python indexes from zero:"
      ]
    },
    {
      "cell_type": "code",
      "execution_count": null,
      "metadata": {
        "id": "PT79Ngl2BtV8",
        "outputId": "41255a35-a548-44c6-81d2-2674f8f8b262"
      },
      "outputs": [
        {
          "name": "stdout",
          "output_type": "stream",
          "text": [
            "a_list = [2, 3, 3, 'abc123', 3.14, 'cookie']\n",
            "a_list[0] = 2\n",
            "a_list[1] = 3\n",
            "a_list[:1] = [2]\n",
            "a_list[1:] = [3, 3, 'abc123', 3.14, 'cookie']\n"
          ]
        }
      ],
      "source": [
        "print(f'a_list = {a_list}')\n",
        "print(f'a_list[0] = {a_list[0]}')\n",
        "print(f'a_list[1] = {a_list[1]}')\n",
        "print(f'a_list[:1] = {a_list[:1]}')\n",
        "print(f'a_list[1:] = {a_list[1:]}')"
      ]
    },
    {
      "cell_type": "code",
      "execution_count": null,
      "metadata": {
        "id": "tcMVfyi-BtV8",
        "outputId": "42f2b335-6ef5-472b-c2be-7eac71b6da75"
      },
      "outputs": [
        {
          "name": "stdout",
          "output_type": "stream",
          "text": [
            "(2, 3, 3, 3.14, 'abc123')\n",
            "Which index corresponds to element 'abc123'? --> 4\n"
          ]
        }
      ],
      "source": [
        "# tuple ... 'n-tice' in Czech\n",
        "a_tuple = (2, 3, 3, 3.14, 'abc123')\n",
        "print(a_tuple)\n",
        "print(f\"Which index corresponds to element 'abc123'? --> {a_tuple.index('abc123')}\")"
      ]
    },
    {
      "cell_type": "code",
      "execution_count": null,
      "metadata": {
        "id": "KyjRZVDIBtV8",
        "outputId": "93747153-3527-42b5-c5df-d2e144947026"
      },
      "outputs": [
        {
          "name": "stdout",
          "output_type": "stream",
          "text": [
            "{3.14, 2, 3, '123'}\n",
            "{2, 3.14, 3, '123', 'b'}\n"
          ]
        }
      ],
      "source": [
        "# set ... just as in mathematics\n",
        "a_set = {2, 3, 3.14, '123', 3}  # note that set cannot contain duplicates\n",
        "print(a_set)\n",
        "b_set = {2, 'b'}\n",
        "a_set = a_set.union(b_set)\n",
        "print(a_set)"
      ]
    },
    {
      "cell_type": "code",
      "execution_count": null,
      "metadata": {
        "id": "cY8apdFGBtV9",
        "outputId": "a0c6f9ed-3b0d-419d-b854-3a0c1ab1dc11"
      },
      "outputs": [
        {
          "name": "stdout",
          "output_type": "stream",
          "text": [
            "{'eggs': 3, 'flour': '200 gr', 'milk': 0.35}\n"
          ]
        }
      ],
      "source": [
        "# dict ... dictionary\n",
        "a_dict = {'eggs': 3, 'flour': \"200 gr\", 'milk': 0.35}\n",
        "print(a_dict)"
      ]
    },
    {
      "cell_type": "code",
      "execution_count": null,
      "metadata": {
        "id": "Hr_fuR5mBtV9",
        "outputId": "92d2a581-3c9f-4835-e5d4-c348842cd546"
      },
      "outputs": [
        {
          "name": "stdout",
          "output_type": "stream",
          "text": [
            "{'eggs': 3, 'flour': '200 gr', 'milk': 0.35, 'cacao': 1, 'fruits': {'banana', 'mango'}}\n"
          ]
        }
      ],
      "source": [
        "a_dict.update({'cacao': 1, 'fruits': {\"banana\", \"mango\"}})  # adding another dict containing INT and SET\n",
        "print(a_dict)"
      ]
    },
    {
      "cell_type": "code",
      "execution_count": null,
      "metadata": {
        "id": "kxnLMEOHBtV9",
        "outputId": "ca97d1bf-e1c5-4582-8abf-f424bf8c0bb4"
      },
      "outputs": [
        {
          "name": "stdout",
          "output_type": "stream",
          "text": [
            "{1, 2, 3, 4}\n"
          ]
        }
      ],
      "source": [
        "my_set = {1, 2, 3}\n",
        "my_set.add(4)\n",
        "print(my_set)  # Output: {1, 2, 3, 4}"
      ]
    },
    {
      "cell_type": "code",
      "source": [],
      "metadata": {
        "id": "OY4N5pEEaHKu"
      },
      "execution_count": null,
      "outputs": []
    }
  ],
  "metadata": {
    "colab": {
      "provenance": [],
      "toc_visible": true,
      "include_colab_link": true
    },
    "kernelspec": {
      "display_name": "Python 3",
      "name": "python3"
    },
    "language_info": {
      "codemirror_mode": {
        "name": "ipython",
        "version": 3
      },
      "file_extension": ".py",
      "mimetype": "text/x-python",
      "name": "python",
      "nbconvert_exporter": "python",
      "pygments_lexer": "ipython3",
      "version": "3.12.2"
    }
  },
  "nbformat": 4,
  "nbformat_minor": 0
}
