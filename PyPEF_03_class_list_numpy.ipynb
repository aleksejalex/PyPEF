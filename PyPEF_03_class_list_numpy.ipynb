{
  "cells": [
    {
      "cell_type": "markdown",
      "metadata": {
        "id": "view-in-github",
        "colab_type": "text"
      },
      "source": [
        "<a href=\"https://colab.research.google.com/github/aleksejalex/PyPEF/blob/main/PyPEF_03_class_list_numpy.ipynb\" target=\"_parent\"><img src=\"https://colab.research.google.com/assets/colab-badge.svg\" alt=\"Open In Colab\"/></a>"
      ]
    },
    {
      "cell_type": "markdown",
      "metadata": {
        "id": "BJ38-zM8iNpQ"
      },
      "source": [
        "# PyPEF, lecture 03. Classes and light intro to OOP. Containers.\n",
        "\n",
        "Prepared by: Aleksej Gaj ( pythonforstudents24@gmail.com )\n",
        "\n",
        "🔗 Course website: [https://aleksejalex.4fan.cz/pef_python/](https://aleksejalex.4fan.cz/pef_python/)\n"
      ]
    },
    {
      "cell_type": "markdown",
      "metadata": {
        "id": "ZEI2YaSwiPFc"
      },
      "source": [
        "In this tutorial we familiarize ourselves with\n",
        " - classes - a brief introduction\n",
        " - containers (`list`, `tuple`, `set`, `dict`, `str`)\n",
        ""
      ]
    },
    {
      "cell_type": "markdown",
      "metadata": {
        "id": "wEIHfEJeBtWE"
      },
      "source": [
        "### Solution of the optional homework:\n",
        "task: implement a game \"Guess a number\".\n",
        "\n",
        "Program has to do following steps:\n",
        " - choose a random integer between 1 and 10 (pre-prepared below)\n",
        " - user has to guess the number (ask user for the guess)\n",
        " - game ends *either* when user guesses correctly or when user gives up.\n",
        "\n",
        "Hint: use `while` loop with composite condition.\n",
        "  "
      ]
    },
    {
      "cell_type": "code",
      "execution_count": 9,
      "metadata": {
        "id": "dvHdQJ6EBtWE",
        "outputId": "464ddcfc-9222-48cc-c45c-214bd94a4ba4",
        "colab": {
          "base_uri": "https://localhost:8080/"
        }
      },
      "outputs": [
        {
          "output_type": "execute_result",
          "data": {
            "text/plain": [
              "False"
            ]
          },
          "metadata": {},
          "execution_count": 9
        }
      ],
      "source": [
        "True and False"
      ]
    },
    {
      "cell_type": "code",
      "execution_count": 4,
      "metadata": {
        "id": "RVI12mLWBtWE",
        "outputId": "cb55a5a9-c1f1-41c8-fbaa-2b7636fe14ad",
        "colab": {
          "base_uri": "https://localhost:8080/"
        }
      },
      "outputs": [
        {
          "output_type": "stream",
          "name": "stdout",
          "text": [
            "Guess a number between 1 and 10 (or type 'stop' to end) --> 3\n",
            "You entered: 3. That's not the number, try again.\n",
            "Guess a number between 1 and 10 (or type 'stop' to end) --> 4\n",
            "You entered: 4. That's not the number, try again.\n",
            "Guess a number between 1 and 10 (or type 'stop' to end) --> 3\n",
            "You entered: 3. That's not the number, try again.\n",
            "Guess a number between 1 and 10 (or type 'stop' to end) --> 1\n",
            "You entered: 1. That's not the number, try again.\n",
            "Guess a number between 1 and 10 (or type 'stop' to end) --> 10\n",
            "You entered: 10. That's not the number, try again.\n",
            "Guess a number between 1 and 10 (or type 'stop' to end) --> 9\n",
            "You entered: 9. That's not the number, try again.\n",
            "Guess a number between 1 and 10 (or type 'stop' to end) --> stop\n",
            "Finishing game...\n",
            "The number was 7..\n"
          ]
        }
      ],
      "source": [
        "import random\n",
        "rand_num = random.randrange(1, 11) # returns random int between 1 and 10 including\n",
        "user_wants_to_play = True\n",
        "not_guessed = True\n",
        "guess = None\n",
        "\n",
        "while user_wants_to_play and not_guessed: #both of these must be true to continue playing\n",
        "    guess = input(\"Guess a number between 1 and 10 (or type 'stop' to end) --> \")\n",
        "    if guess == \"stop\":\n",
        "        print(f\"Finishing game...\")\n",
        "        user_wants_to_play = False\n",
        "    else:\n",
        "        print(f\"You entered: {guess}. That's not the number, try again.\")\n",
        "        if int(guess) == rand_num:\n",
        "            not_guessed = False\n",
        "\n",
        "if not_guessed == False:\n",
        "    print(f\"Congratulations! You've guessed right!\")\n",
        "else:\n",
        "    print(f\"The number was {rand_num}..\")\n"
      ]
    },
    {
      "cell_type": "code",
      "source": [
        "import random\n",
        "\n",
        "print(\"Welcome to the Guess a Number game!\")\n",
        "print(\"I've chosen a number between 1 and 10. Can you guess what it is?\")\n",
        "\n",
        "target_number = random.randint(1, 10)\n",
        "guessed_correctly = False\n",
        "attempts = 0\n",
        "\n",
        "while not guessed_correctly:\n",
        "    user_guess = input(\"Enter your guess (or type 'give up' to give up): \")\n",
        "\n",
        "    if user_guess.lower() == 'give up':\n",
        "        print(f\"Sorry, the number I was thinking of was {target_number}. Better luck next time!\")\n",
        "        break\n",
        "\n",
        "    if not user_guess.isdigit():\n",
        "        print(\"Invalid input. Please enter a valid number between 1 and 10, or 'give up'.\")\n",
        "        continue\n",
        "\n",
        "    guess = int(user_guess)\n",
        "    attempts += 1\n",
        "\n",
        "    if guess == target_number:\n",
        "        print(f\"Congratulations! You've guessed the number {target_number} in {attempts} attempts!\")\n",
        "        guessed_correctly = True\n",
        "    elif guess < 1 or guess > 10:\n",
        "        print(\"Please enter a number between 1 and 10.\")\n",
        "    else:\n",
        "        print(\"Sorry, that's not the number. Try again!\")\n"
      ],
      "metadata": {
        "colab": {
          "base_uri": "https://localhost:8080/"
        },
        "id": "VQNnm-dLG-X7",
        "outputId": "dda25cfb-1126-4e7c-ad2a-a76c9ca71c40"
      },
      "execution_count": 5,
      "outputs": [
        {
          "output_type": "stream",
          "name": "stdout",
          "text": [
            "Welcome to the Guess a Number game!\n",
            "I've chosen a number between 1 and 10. Can you guess what it is?\n",
            "Enter your guess (or type 'give up' to give up): 1\n",
            "Sorry, that's not the number. Try again!\n",
            "Enter your guess (or type 'give up' to give up): 2\n",
            "Sorry, that's not the number. Try again!\n",
            "Enter your guess (or type 'give up' to give up): 3\n",
            "Sorry, that's not the number. Try again!\n",
            "Enter your guess (or type 'give up' to give up): 4\n",
            "Congratulations! You've guessed the number 4 in 4 attempts!\n"
          ]
        }
      ]
    },
    {
      "cell_type": "markdown",
      "metadata": {
        "id": "YVBNHulGBtWG"
      },
      "source": [
        "## Functions - the important object.\n",
        "\n",
        "Functions in Python looks similar like in other languages.\n",
        "\n",
        "```\n",
        "def name(ARG1, ARG2, ... ):\n",
        "    CODE_EXECUTED\n",
        "    return RETURN_VALUE\n",
        "```"
      ]
    },
    {
      "cell_type": "code",
      "execution_count": null,
      "metadata": {
        "id": "d4PUd7HsBtWG",
        "outputId": "99af0266-e6bb-4985-b403-ee4e43af03ad"
      },
      "outputs": [
        {
          "name": "stdout",
          "output_type": "stream",
          "text": [
            "Hello, Python!\n"
          ]
        }
      ],
      "source": [
        "def say_hello(name):\n",
        "    print(f\"Hello, {name}!\")\n",
        "\n",
        "say_hello(\"Python\")"
      ]
    },
    {
      "cell_type": "markdown",
      "source": [
        "### Try it yourself:\n",
        "\n",
        "**task:** implement a function that will divide two numbers. \\\n",
        "It should take two mandatory arguments (the numbers to be divided) and a boolean value representing whether we want the float division or floor division (cz. *celočíselné dělení*). By default function should do float division."
      ],
      "metadata": {
        "id": "LakQiQqYDR_S"
      }
    },
    {
      "cell_type": "code",
      "execution_count": 1,
      "metadata": {
        "id": "mIatClWwBtWJ"
      },
      "outputs": [],
      "source": [
        "def my_division():\n",
        "    pass"
      ]
    },
    {
      "cell_type": "code",
      "source": [
        "a = 7\n",
        "b = 3\n",
        "print(f\"Float division of {a} by {b}:  {...}\")\n",
        "print(f\"Integer division of {a} by {b}:  {...}\")"
      ],
      "metadata": {
        "id": "4juwzab6FU-z"
      },
      "execution_count": null,
      "outputs": []
    },
    {
      "cell_type": "markdown",
      "metadata": {
        "id": "WhWe7IH4BtWJ"
      },
      "source": [
        "## Classes.\n",
        "\n",
        "= a \"blueprint\" to create objects\n",
        "\n",
        " - defines the properties (attributes) and behaviors (methods) that objects of that class will have\n",
        "\n",
        "Example:\n",
        "Let's imagine we create cats.\n",
        "\n",
        "<img src=\"https://aleksejalex.4fan.cz/pef_python/img/blueprint_of_cat_and_a_cat4.jpeg\" alt=\"creating different cats from same blueprint\" width=\"300\">\n",
        "\n",
        "\n"
      ]
    },
    {
      "cell_type": "code",
      "execution_count": null,
      "metadata": {
        "id": "of15mdOyBtWJ"
      },
      "outputs": [],
      "source": [
        "class Cat:\n",
        "    def __init__(self, given_name, colour, weight = 12000):\n",
        "        self.name = given_name\n",
        "        self.colour = colour\n",
        "        self.weight = weight  # weight in grams\n",
        "        self.gender = 'male'\n",
        "\n",
        "    def eat(self, amount_of_food):\n",
        "        \"\"\"when it eats, it gains weight\"\"\"\n",
        "        self.weight = self.weight + amount_of_food\n",
        "\n",
        "    def run_around(self, distance = 1):\n",
        "        \"\"\"each km of running makes cat loose 200gr of weight\"\"\"\n",
        "        self.weight = self.weight - 200*distance\n",
        "\n",
        "    def say(self, what_to_say: str = \"meoOow\"):\n",
        "        \"\"\"makes your cat talk\"\"\"\n",
        "        print(f\"Cat {self.name} says: {what_to_say}.\")\n"
      ]
    },
    {
      "cell_type": "code",
      "execution_count": null,
      "metadata": {
        "id": "TolOpE2kBtWK",
        "outputId": "a8e84fd3-848c-48c7-c607-166a5048c26c"
      },
      "outputs": [
        {
          "name": "stdout",
          "output_type": "stream",
          "text": [
            "<__main__.Cat object at 0x7f0d6d0c2a20>\n"
          ]
        }
      ],
      "source": [
        "# define my cat\n",
        "my_cat = Cat(\"Puss\", \"orange\")  # only name was mandatory property\n",
        "\n",
        "print(my_cat)  # just object in memory"
      ]
    },
    {
      "cell_type": "code",
      "execution_count": null,
      "metadata": {
        "id": "-UOewAbsBtWK",
        "outputId": "120cf41e-2629-4694-f0a1-89a646609ca0"
      },
      "outputs": [
        {
          "name": "stdout",
          "output_type": "stream",
          "text": [
            "Puss\n",
            "12000\n"
          ]
        }
      ],
      "source": [
        "# Properties of my cat\n",
        "print(my_cat.name)\n",
        "print(my_cat.weight)"
      ]
    },
    {
      "cell_type": "code",
      "execution_count": null,
      "metadata": {
        "id": "SBvrcpAwBtWK",
        "outputId": "4d9204e8-39ce-4867-f8a9-893092364f70"
      },
      "outputs": [
        {
          "name": "stdout",
          "output_type": "stream",
          "text": [
            "Cat Puss says: I'm hungry!.\n"
          ]
        }
      ],
      "source": [
        "# let the cat speak for itself:\n",
        "my_cat.say(\"I'm hungry!\")"
      ]
    },
    {
      "cell_type": "code",
      "execution_count": null,
      "metadata": {
        "id": "XSGxySXXBtWK",
        "outputId": "0fa9b7be-f22e-4b50-a3e8-b2d84d9e421f"
      },
      "outputs": [
        {
          "name": "stdout",
          "output_type": "stream",
          "text": [
            "12250\n"
          ]
        }
      ],
      "source": [
        "my_cat.eat(250) # cat eat a tuna can (250grams)\n",
        "print(my_cat.weight)"
      ]
    },
    {
      "cell_type": "markdown",
      "metadata": {
        "id": "I-UTkFb6BtWK"
      },
      "source": [
        "Let's see how our cat burns calories:"
      ]
    },
    {
      "cell_type": "code",
      "execution_count": null,
      "metadata": {
        "id": "9mlqjIOcBtWL",
        "outputId": "f588e5d1-a05a-4a18-cd0c-b04fe7820981"
      },
      "outputs": [
        {
          "name": "stdout",
          "output_type": "stream",
          "text": [
            "11650\n"
          ]
        }
      ],
      "source": [
        "my_cat.run_around(3)  # let it run 3 km\n",
        "print(my_cat.weight)"
      ]
    },
    {
      "cell_type": "code",
      "execution_count": null,
      "metadata": {
        "id": "SbmX8o5dBtWL"
      },
      "outputs": [],
      "source": [
        "neibourghs_cat = Cat(given_name=\"Mathilda\", colour=\"black\", weight=7000)\n"
      ]
    },
    {
      "cell_type": "markdown",
      "metadata": {
        "id": "Fqsn88K7BtWL"
      },
      "source": [
        "### Optional homework\n",
        "task: implement a class `Car` and build a garage of your dreams.\n",
        "\n",
        "Technically: `Car` should have some properties (for example: `name`, `license_plate`, `condition`, `color`, `consumption`, ...) and methods (for example: `drive_to()`, `repaint()`, `clean_up()`, `fill_tank()`, ...)\n",
        "\n",
        "Play with those a little to get used to:\n",
        " - defining a class\n",
        " - creating instances (with optional arguments)\n",
        " - using them\n",
        "\n",
        " (of course you can choose any other example, it doesn't have to be `Car` class)"
      ]
    },
    {
      "cell_type": "code",
      "source": [],
      "metadata": {
        "id": "TcePwVIPGOSj"
      },
      "execution_count": null,
      "outputs": []
    },
    {
      "cell_type": "markdown",
      "source": [
        "### Inheritance.\n",
        "\n"
      ],
      "metadata": {
        "id": "ndzSQjkBcmQ5"
      }
    },
    {
      "cell_type": "code",
      "source": [
        "# next time"
      ],
      "metadata": {
        "id": "TO0-vDrRcjCj"
      },
      "execution_count": 10,
      "outputs": []
    },
    {
      "cell_type": "markdown",
      "metadata": {
        "id": "CsS_W8B1BtV5"
      },
      "source": [
        "## Containers.\n",
        "Python uses several containers:\n",
        " - list\n",
        "\n",
        "\n",
        "| Type         | Description                                | Example                   |\n",
        "|--------------|--------------------------------------------|---------------------------|\n",
        "| list         | Ordered collection of items                | `my_list = [1, 2, 3]`     |\n",
        "| tuple        | Immutable ordered collection of items      | `my_tuple = (1, 2, 3)`    |\n",
        "| set          | Unordered collection of unique items       | `my_set = {1, 2, 3}`      |\n",
        "| dict         | Collection of key-value pairs              | `my_dict = {'eggs': 6, 'apples': 3, 'cookies': \"chocolate\"}`|\n"
      ]
    },
    {
      "cell_type": "markdown",
      "metadata": {
        "id": "WXUUiZ0XBtV5"
      },
      "source": [
        "Properties:"
      ]
    },
    {
      "cell_type": "markdown",
      "metadata": {
        "id": "nZ7EOuY8BtV6"
      },
      "source": [
        "| Type  \t| Ordered?         \t| Can add new elements? \t| Can contain duplicates? \t| Example                                                      \t|\n",
        "|-------\t|------------------\t|-----------------------\t|-------------------------\t|--------------------------------------------------------------\t|\n",
        "| list  \t| ✅                \t| ✅ (via `.add()`)      \t| ✅                       \t| `my_list = [1, 2, 3]`                                        \t|\n",
        "| tuple \t| ✅                \t| ❌                     \t| ✅                       \t| `my_tuple = (1, 2, 3)`                                       \t|\n",
        "| set   \t| ❌                \t| 🟠 (via `.union()`)    \t| ❌                       \t| `my_set = {1, 2, 3}`                                         \t|\n",
        "| dict  \t| ✅ (newer Python) \t| 🟠 (via `.update()`)   \t| ❌                       \t| `my_dict = {'eggs': 6, 'apples': 3, 'cookies': \"chocolate\"}` \t|\n",
        "| str   \t| ✅                \t| 🟠 (via `concat()`)    \t| ✅                       \t| `my_string = \"Hello 2024!\"`                                  \t|"
      ]
    },
    {
      "cell_type": "markdown",
      "metadata": {
        "id": "baUcdVNOBtV6"
      },
      "source": [
        "🚧 Note about **object-oriented programming** (OOP):\n",
        "\n",
        "In OOP, objects are instances of classes. A class defines the structure and behavior of objects, while objects themselves contain data and code (values/properties and methods/procedures).\n",
        "\n",
        "*Example* (try it yourself!):\n",
        "> object name: `capital_city` \\\n",
        "> object type: `str` \\\n",
        "> value : `\"prague\"` \\\n",
        "> method/procedure: `capitalize()`\n",
        "\n",
        "\n",
        "\n",
        "Method/procedure is a function that\n",
        " - either changes the object itself (its data),\n",
        " - or returns a value\n",
        "\n",
        "\n",
        "In Python **everything is considered to be an object!**  "
      ]
    },
    {
      "cell_type": "code",
      "execution_count": null,
      "metadata": {
        "id": "cCMEAfNiBtV7",
        "outputId": "acff7cb1-049d-4cc9-88f9-1e3cd4a84c67"
      },
      "outputs": [
        {
          "name": "stdout",
          "output_type": "stream",
          "text": [
            "[2, 3, 3, 'abc123', 3.14, 'cookie']\n"
          ]
        }
      ],
      "source": [
        "# list ... most common, universal\n",
        "a_list = [2, 3, 3, 'abc123', 3.14]\n",
        "a_list.append(\"cookie\")\n",
        "print(a_list)"
      ]
    },
    {
      "cell_type": "markdown",
      "metadata": {
        "id": "14VzDgrjBtV7"
      },
      "source": [
        "🚨 Note: By default Python indexes from zero:"
      ]
    },
    {
      "cell_type": "code",
      "execution_count": null,
      "metadata": {
        "id": "PT79Ngl2BtV8",
        "outputId": "41255a35-a548-44c6-81d2-2674f8f8b262"
      },
      "outputs": [
        {
          "name": "stdout",
          "output_type": "stream",
          "text": [
            "a_list = [2, 3, 3, 'abc123', 3.14, 'cookie']\n",
            "a_list[0] = 2\n",
            "a_list[1] = 3\n",
            "a_list[:1] = [2]\n",
            "a_list[1:] = [3, 3, 'abc123', 3.14, 'cookie']\n"
          ]
        }
      ],
      "source": [
        "print(f'a_list = {a_list}')\n",
        "print(f'a_list[0] = {a_list[0]}')\n",
        "print(f'a_list[1] = {a_list[1]}')\n",
        "print(f'a_list[:1] = {a_list[:1]}')\n",
        "print(f'a_list[1:] = {a_list[1:]}')"
      ]
    },
    {
      "cell_type": "code",
      "execution_count": null,
      "metadata": {
        "id": "tcMVfyi-BtV8",
        "outputId": "42f2b335-6ef5-472b-c2be-7eac71b6da75"
      },
      "outputs": [
        {
          "name": "stdout",
          "output_type": "stream",
          "text": [
            "(2, 3, 3, 3.14, 'abc123')\n",
            "Which index corresponds to element 'abc123'? --> 4\n"
          ]
        }
      ],
      "source": [
        "# tuple ... 'n-tice' in Czech\n",
        "a_tuple = (2, 3, 3, 3.14, 'abc123')\n",
        "print(a_tuple)\n",
        "print(f\"Which index corresponds to element 'abc123'? --> {a_tuple.index('abc123')}\")"
      ]
    },
    {
      "cell_type": "code",
      "execution_count": null,
      "metadata": {
        "id": "KyjRZVDIBtV8",
        "outputId": "93747153-3527-42b5-c5df-d2e144947026"
      },
      "outputs": [
        {
          "name": "stdout",
          "output_type": "stream",
          "text": [
            "{3.14, 2, 3, '123'}\n",
            "{2, 3.14, 3, '123', 'b'}\n"
          ]
        }
      ],
      "source": [
        "# set ... just as in mathematics\n",
        "a_set = {2, 3, 3.14, '123', 3}  # note that set cannot contain duplicates\n",
        "print(a_set)\n",
        "b_set = {2, 'b'}\n",
        "a_set = a_set.union(b_set)\n",
        "print(a_set)"
      ]
    },
    {
      "cell_type": "code",
      "execution_count": null,
      "metadata": {
        "id": "cY8apdFGBtV9",
        "outputId": "a0c6f9ed-3b0d-419d-b854-3a0c1ab1dc11"
      },
      "outputs": [
        {
          "name": "stdout",
          "output_type": "stream",
          "text": [
            "{'eggs': 3, 'flour': '200 gr', 'milk': 0.35}\n"
          ]
        }
      ],
      "source": [
        "# dict ... dictionary\n",
        "a_dict = {'eggs': 3, 'flour': \"200 gr\", 'milk': 0.35}\n",
        "print(a_dict)"
      ]
    },
    {
      "cell_type": "code",
      "execution_count": null,
      "metadata": {
        "id": "Hr_fuR5mBtV9",
        "outputId": "92d2a581-3c9f-4835-e5d4-c348842cd546"
      },
      "outputs": [
        {
          "name": "stdout",
          "output_type": "stream",
          "text": [
            "{'eggs': 3, 'flour': '200 gr', 'milk': 0.35, 'cacao': 1, 'fruits': {'banana', 'mango'}}\n"
          ]
        }
      ],
      "source": [
        "a_dict.update({'cacao': 1, 'fruits': {\"banana\", \"mango\"}})  # adding another dict containing INT and SET\n",
        "print(a_dict)"
      ]
    },
    {
      "cell_type": "code",
      "execution_count": null,
      "metadata": {
        "id": "kxnLMEOHBtV9",
        "outputId": "ca97d1bf-e1c5-4582-8abf-f424bf8c0bb4"
      },
      "outputs": [
        {
          "name": "stdout",
          "output_type": "stream",
          "text": [
            "{1, 2, 3, 4}\n"
          ]
        }
      ],
      "source": [
        "my_set = {1, 2, 3}\n",
        "my_set.add(4)\n",
        "print(my_set)  # Output: {1, 2, 3, 4}"
      ]
    },
    {
      "cell_type": "markdown",
      "source": [
        "Defining and retyping containers:"
      ],
      "metadata": {
        "id": "8RpVoUceKfjM"
      }
    },
    {
      "cell_type": "code",
      "source": [
        "string = \"Hello, PEF!\"\n",
        "mylist = list(string)\n",
        "mytuple = tuple(string)\n",
        "myset = set(string)\n",
        "\n",
        "print(\"string:\", string)\n",
        "print(\"list:\", mylist)\n",
        "print(\"tuple:\", mytuple)\n",
        "print(\"set:\", myset)"
      ],
      "metadata": {
        "colab": {
          "base_uri": "https://localhost:8080/"
        },
        "id": "4LTE5TNWKirC",
        "outputId": "433dc4ab-b571-4318-ddba-23814df228ef"
      },
      "execution_count": 7,
      "outputs": [
        {
          "output_type": "stream",
          "name": "stdout",
          "text": [
            "string: Hello, PEF!\n",
            "list: ['H', 'e', 'l', 'l', 'o', ',', ' ', 'P', 'E', 'F', '!']\n",
            "tuple: ('H', 'e', 'l', 'l', 'o', ',', ' ', 'P', 'E', 'F', '!')\n",
            "set: {'!', 'F', 'E', 'P', 'l', ' ', 'e', 'H', 'o', ','}\n"
          ]
        }
      ]
    },
    {
      "cell_type": "code",
      "source": [],
      "metadata": {
        "id": "C_aSZ5CoKr7r"
      },
      "execution_count": null,
      "outputs": []
    },
    {
      "cell_type": "markdown",
      "source": [
        "## Optional homework:\n",
        "\n",
        "**task:** write a function that will take a list of numbers, test whether list contains numbers only (only type `int` and `float` is applowed) and will return median of those numbers."
      ],
      "metadata": {
        "id": "P-dD1nvBM2Lh"
      }
    },
    {
      "cell_type": "code",
      "source": [
        "def calculate_median(numbers:list):\n",
        "    pass\n",
        "\n",
        "# Example usage:\n",
        "number_list = [1, 2.5, 3, 4, 5]\n",
        "median = calculate_median(number_list)\n",
        "print(\"Median:\", median)\n"
      ],
      "metadata": {
        "colab": {
          "base_uri": "https://localhost:8080/"
        },
        "id": "hACSPKbMM2jf",
        "outputId": "d91c3cda-d245-4c9b-d848-43fb1757eaf2"
      },
      "execution_count": 12,
      "outputs": [
        {
          "output_type": "stream",
          "name": "stdout",
          "text": [
            "Median: None\n"
          ]
        }
      ]
    },
    {
      "cell_type": "code",
      "source": [],
      "metadata": {
        "id": "D7Rj7r-pdMrx"
      },
      "execution_count": null,
      "outputs": []
    }
  ],
  "metadata": {
    "colab": {
      "provenance": [],
      "toc_visible": true,
      "include_colab_link": true
    },
    "kernelspec": {
      "display_name": "Python 3",
      "name": "python3"
    },
    "language_info": {
      "codemirror_mode": {
        "name": "ipython",
        "version": 3
      },
      "file_extension": ".py",
      "mimetype": "text/x-python",
      "name": "python",
      "nbconvert_exporter": "python",
      "pygments_lexer": "ipython3",
      "version": "3.12.2"
    }
  },
  "nbformat": 4,
  "nbformat_minor": 0
}